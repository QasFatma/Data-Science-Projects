{
 "cells": [
  {
   "cell_type": "code",
   "execution_count": 1,
   "metadata": {},
   "outputs": [],
   "source": [
    "import pandas as pd\n",
    "import matplotlib.pyplot as plt\n",
    "import datetime as dt\n",
    "import seaborn as sns\n",
    "import numpy as np\n",
    "import warnings\n",
    "warnings.simplefilter('ignore')\n",
    "%matplotlib inline"
   ]
  },
  {
   "cell_type": "code",
   "execution_count": 2,
   "metadata": {},
   "outputs": [],
   "source": [
    "# Read the excel file to get the online retail data\n",
    "retail_dataset = pd.read_excel(\"Online Retail.xlsx\")"
   ]
  },
  {
   "cell_type": "markdown",
   "metadata": {},
   "source": [
    "# 1. Perform a preliminary data inspection and Data cleaning"
   ]
  },
  {
   "cell_type": "code",
   "execution_count": 3,
   "metadata": {},
   "outputs": [
    {
     "name": "stdout",
     "output_type": "stream",
     "text": [
      "  InvoiceNo StockCode                          Description  Quantity  \\\n",
      "0    536365    85123A   WHITE HANGING HEART T-LIGHT HOLDER         6   \n",
      "1    536365     71053                  WHITE METAL LANTERN         6   \n",
      "2    536365    84406B       CREAM CUPID HEARTS COAT HANGER         8   \n",
      "3    536365    84029G  KNITTED UNION FLAG HOT WATER BOTTLE         6   \n",
      "4    536365    84029E       RED WOOLLY HOTTIE WHITE HEART.         6   \n",
      "\n",
      "          InvoiceDate  UnitPrice  CustomerID         Country  \n",
      "0 2010-12-01 08:26:00       2.55     17850.0  United Kingdom  \n",
      "1 2010-12-01 08:26:00       3.39     17850.0  United Kingdom  \n",
      "2 2010-12-01 08:26:00       2.75     17850.0  United Kingdom  \n",
      "3 2010-12-01 08:26:00       3.39     17850.0  United Kingdom  \n",
      "4 2010-12-01 08:26:00       3.39     17850.0  United Kingdom  \n"
     ]
    }
   ],
   "source": [
    "# Check the first 5 records\n",
    "print(retail_dataset.head())"
   ]
  },
  {
   "cell_type": "code",
   "execution_count": 4,
   "metadata": {},
   "outputs": [
    {
     "data": {
      "text/plain": [
       "(541909, 8)"
      ]
     },
     "execution_count": 4,
     "metadata": {},
     "output_type": "execute_result"
    }
   ],
   "source": [
    "# Check the number of rows: 541909 and features: 8\n",
    "retail_dataset.shape"
   ]
  },
  {
   "cell_type": "code",
   "execution_count": 5,
   "metadata": {},
   "outputs": [
    {
     "name": "stdout",
     "output_type": "stream",
     "text": [
      "<class 'pandas.core.frame.DataFrame'>\n",
      "RangeIndex: 541909 entries, 0 to 541908\n",
      "Data columns (total 8 columns):\n",
      " #   Column       Non-Null Count   Dtype         \n",
      "---  ------       --------------   -----         \n",
      " 0   InvoiceNo    541909 non-null  object        \n",
      " 1   StockCode    541909 non-null  object        \n",
      " 2   Description  540455 non-null  object        \n",
      " 3   Quantity     541909 non-null  int64         \n",
      " 4   InvoiceDate  541909 non-null  datetime64[ns]\n",
      " 5   UnitPrice    541909 non-null  float64       \n",
      " 6   CustomerID   406829 non-null  float64       \n",
      " 7   Country      541909 non-null  object        \n",
      "dtypes: datetime64[ns](1), float64(2), int64(1), object(4)\n",
      "memory usage: 33.1+ MB\n"
     ]
    }
   ],
   "source": [
    "#Get column name and type\n",
    "retail_dataset.info()"
   ]
  },
  {
   "cell_type": "code",
   "execution_count": 6,
   "metadata": {},
   "outputs": [
    {
     "data": {
      "text/html": [
       "<div>\n",
       "<style scoped>\n",
       "    .dataframe tbody tr th:only-of-type {\n",
       "        vertical-align: middle;\n",
       "    }\n",
       "\n",
       "    .dataframe tbody tr th {\n",
       "        vertical-align: top;\n",
       "    }\n",
       "\n",
       "    .dataframe thead th {\n",
       "        text-align: right;\n",
       "    }\n",
       "</style>\n",
       "<table border=\"1\" class=\"dataframe\">\n",
       "  <thead>\n",
       "    <tr style=\"text-align: right;\">\n",
       "      <th></th>\n",
       "      <th>Quantity</th>\n",
       "      <th>UnitPrice</th>\n",
       "      <th>CustomerID</th>\n",
       "    </tr>\n",
       "  </thead>\n",
       "  <tbody>\n",
       "    <tr>\n",
       "      <th>count</th>\n",
       "      <td>541909.000000</td>\n",
       "      <td>541909.000000</td>\n",
       "      <td>406829.000000</td>\n",
       "    </tr>\n",
       "    <tr>\n",
       "      <th>mean</th>\n",
       "      <td>9.552250</td>\n",
       "      <td>4.611114</td>\n",
       "      <td>15287.690570</td>\n",
       "    </tr>\n",
       "    <tr>\n",
       "      <th>std</th>\n",
       "      <td>218.081158</td>\n",
       "      <td>96.759853</td>\n",
       "      <td>1713.600303</td>\n",
       "    </tr>\n",
       "    <tr>\n",
       "      <th>min</th>\n",
       "      <td>-80995.000000</td>\n",
       "      <td>-11062.060000</td>\n",
       "      <td>12346.000000</td>\n",
       "    </tr>\n",
       "    <tr>\n",
       "      <th>25%</th>\n",
       "      <td>1.000000</td>\n",
       "      <td>1.250000</td>\n",
       "      <td>13953.000000</td>\n",
       "    </tr>\n",
       "    <tr>\n",
       "      <th>50%</th>\n",
       "      <td>3.000000</td>\n",
       "      <td>2.080000</td>\n",
       "      <td>15152.000000</td>\n",
       "    </tr>\n",
       "    <tr>\n",
       "      <th>75%</th>\n",
       "      <td>10.000000</td>\n",
       "      <td>4.130000</td>\n",
       "      <td>16791.000000</td>\n",
       "    </tr>\n",
       "    <tr>\n",
       "      <th>max</th>\n",
       "      <td>80995.000000</td>\n",
       "      <td>38970.000000</td>\n",
       "      <td>18287.000000</td>\n",
       "    </tr>\n",
       "  </tbody>\n",
       "</table>\n",
       "</div>"
      ],
      "text/plain": [
       "            Quantity      UnitPrice     CustomerID\n",
       "count  541909.000000  541909.000000  406829.000000\n",
       "mean        9.552250       4.611114   15287.690570\n",
       "std       218.081158      96.759853    1713.600303\n",
       "min    -80995.000000  -11062.060000   12346.000000\n",
       "25%         1.000000       1.250000   13953.000000\n",
       "50%         3.000000       2.080000   15152.000000\n",
       "75%        10.000000       4.130000   16791.000000\n",
       "max     80995.000000   38970.000000   18287.000000"
      ]
     },
     "execution_count": 6,
     "metadata": {},
     "output_type": "execute_result"
    }
   ],
   "source": [
    "# Check the aggregations - \n",
    "# as seen, the mean quantity of items ordered is 9 which is good for business \n",
    "# and the max quantity ordered is 80995\n",
    "retail_dataset.describe()"
   ]
  },
  {
   "cell_type": "code",
   "execution_count": 7,
   "metadata": {},
   "outputs": [
    {
     "data": {
      "text/plain": [
       "InvoiceNo           0\n",
       "StockCode           0\n",
       "Description      1454\n",
       "Quantity            0\n",
       "InvoiceDate         0\n",
       "UnitPrice           0\n",
       "CustomerID     135080\n",
       "Country             0\n",
       "dtype: int64"
      ]
     },
     "execution_count": 7,
     "metadata": {},
     "output_type": "execute_result"
    }
   ],
   "source": [
    "''' Check for null values\n",
    "Col Description has 1454 null values\n",
    "Col CustomerID has 135080 null values\n",
    "'''\n",
    "retail_dataset.isnull().sum()"
   ]
  },
  {
   "cell_type": "markdown",
   "metadata": {},
   "source": [
    "# 1.b > Remove duplicate data records"
   ]
  },
  {
   "cell_type": "code",
   "execution_count": 8,
   "metadata": {},
   "outputs": [],
   "source": [
    "# Dropping any duplicate vaues\n",
    "retail_dataset.drop_duplicates(inplace=True)"
   ]
  },
  {
   "cell_type": "markdown",
   "metadata": {},
   "source": [
    "# 1. a > Check for missing data "
   ]
  },
  {
   "cell_type": "code",
   "execution_count": 9,
   "metadata": {},
   "outputs": [],
   "source": [
    "# Drop all CustomerID null values as this field is the primary key\n",
    "retail_dataset.dropna(subset=['CustomerID'], inplace=True)"
   ]
  },
  {
   "cell_type": "code",
   "execution_count": 10,
   "metadata": {},
   "outputs": [
    {
     "data": {
      "text/plain": [
       "0"
      ]
     },
     "execution_count": 10,
     "metadata": {},
     "output_type": "execute_result"
    }
   ],
   "source": [
    "# Check for null values - no null \n",
    "retail_dataset.isnull().sum().sum()"
   ]
  },
  {
   "cell_type": "code",
   "execution_count": 11,
   "metadata": {},
   "outputs": [],
   "source": [
    "# Changing Customer ID type to int to avoid decimal\n",
    "retail_dataset['CustomerID'] = retail_dataset['CustomerID'].astype(int)"
   ]
  },
  {
   "cell_type": "code",
   "execution_count": 12,
   "metadata": {},
   "outputs": [
    {
     "name": "stdout",
     "output_type": "stream",
     "text": [
      "<class 'pandas.core.frame.DataFrame'>\n",
      "Int64Index: 401604 entries, 0 to 541908\n",
      "Data columns (total 8 columns):\n",
      " #   Column       Non-Null Count   Dtype         \n",
      "---  ------       --------------   -----         \n",
      " 0   InvoiceNo    401604 non-null  object        \n",
      " 1   StockCode    401604 non-null  object        \n",
      " 2   Description  401604 non-null  object        \n",
      " 3   Quantity     401604 non-null  int64         \n",
      " 4   InvoiceDate  401604 non-null  datetime64[ns]\n",
      " 5   UnitPrice    401604 non-null  float64       \n",
      " 6   CustomerID   401604 non-null  int64         \n",
      " 7   Country      401604 non-null  object        \n",
      "dtypes: datetime64[ns](1), float64(1), int64(2), object(4)\n",
      "memory usage: 27.6+ MB\n"
     ]
    }
   ],
   "source": [
    "retail_dataset.info()"
   ]
  },
  {
   "cell_type": "code",
   "execution_count": 13,
   "metadata": {},
   "outputs": [
    {
     "name": "stdout",
     "output_type": "stream",
     "text": [
      "Number of unique values in InvoiceNo : 22190 \n",
      "Number of unique values in StockCode : 3684 \n",
      "Number of unique values in Description : 3896 \n",
      "Number of unique values in Quantity : 436 \n",
      "Number of unique values in InvoiceDate : 20460 \n",
      "Number of unique values in UnitPrice : 620 \n",
      "Number of unique values in CustomerID : 4372 \n",
      "Number of unique values in Country : 37 \n"
     ]
    }
   ],
   "source": [
    "# Checking the count of unique values in each column\n",
    "for col in retail_dataset.columns:\n",
    "    print(\"Number of unique values in {0} : {1} \".format(col, retail_dataset[col].nunique()))"
   ]
  },
  {
   "cell_type": "code",
   "execution_count": 14,
   "metadata": {},
   "outputs": [
    {
     "name": "stdout",
     "output_type": "stream",
     "text": [
      "Total cancelled order amount: £ -608689.47\n"
     ]
    },
    {
     "data": {
      "text/html": [
       "<div>\n",
       "<style scoped>\n",
       "    .dataframe tbody tr th:only-of-type {\n",
       "        vertical-align: middle;\n",
       "    }\n",
       "\n",
       "    .dataframe tbody tr th {\n",
       "        vertical-align: top;\n",
       "    }\n",
       "\n",
       "    .dataframe thead th {\n",
       "        text-align: right;\n",
       "    }\n",
       "</style>\n",
       "<table border=\"1\" class=\"dataframe\">\n",
       "  <thead>\n",
       "    <tr style=\"text-align: right;\">\n",
       "      <th></th>\n",
       "      <th>InvoiceNo</th>\n",
       "      <th>StockCode</th>\n",
       "      <th>Description</th>\n",
       "      <th>Quantity</th>\n",
       "      <th>InvoiceDate</th>\n",
       "      <th>UnitPrice</th>\n",
       "      <th>CustomerID</th>\n",
       "      <th>Country</th>\n",
       "      <th>TotalAmount</th>\n",
       "    </tr>\n",
       "  </thead>\n",
       "  <tbody>\n",
       "    <tr>\n",
       "      <th>0</th>\n",
       "      <td>536365</td>\n",
       "      <td>85123A</td>\n",
       "      <td>WHITE HANGING HEART T-LIGHT HOLDER</td>\n",
       "      <td>6</td>\n",
       "      <td>2010-12-01 08:26:00</td>\n",
       "      <td>2.55</td>\n",
       "      <td>17850</td>\n",
       "      <td>United Kingdom</td>\n",
       "      <td>15.30</td>\n",
       "    </tr>\n",
       "    <tr>\n",
       "      <th>1</th>\n",
       "      <td>536365</td>\n",
       "      <td>71053</td>\n",
       "      <td>WHITE METAL LANTERN</td>\n",
       "      <td>6</td>\n",
       "      <td>2010-12-01 08:26:00</td>\n",
       "      <td>3.39</td>\n",
       "      <td>17850</td>\n",
       "      <td>United Kingdom</td>\n",
       "      <td>20.34</td>\n",
       "    </tr>\n",
       "    <tr>\n",
       "      <th>2</th>\n",
       "      <td>536365</td>\n",
       "      <td>84406B</td>\n",
       "      <td>CREAM CUPID HEARTS COAT HANGER</td>\n",
       "      <td>8</td>\n",
       "      <td>2010-12-01 08:26:00</td>\n",
       "      <td>2.75</td>\n",
       "      <td>17850</td>\n",
       "      <td>United Kingdom</td>\n",
       "      <td>22.00</td>\n",
       "    </tr>\n",
       "    <tr>\n",
       "      <th>3</th>\n",
       "      <td>536365</td>\n",
       "      <td>84029G</td>\n",
       "      <td>KNITTED UNION FLAG HOT WATER BOTTLE</td>\n",
       "      <td>6</td>\n",
       "      <td>2010-12-01 08:26:00</td>\n",
       "      <td>3.39</td>\n",
       "      <td>17850</td>\n",
       "      <td>United Kingdom</td>\n",
       "      <td>20.34</td>\n",
       "    </tr>\n",
       "    <tr>\n",
       "      <th>4</th>\n",
       "      <td>536365</td>\n",
       "      <td>84029E</td>\n",
       "      <td>RED WOOLLY HOTTIE WHITE HEART.</td>\n",
       "      <td>6</td>\n",
       "      <td>2010-12-01 08:26:00</td>\n",
       "      <td>3.39</td>\n",
       "      <td>17850</td>\n",
       "      <td>United Kingdom</td>\n",
       "      <td>20.34</td>\n",
       "    </tr>\n",
       "  </tbody>\n",
       "</table>\n",
       "</div>"
      ],
      "text/plain": [
       "  InvoiceNo StockCode                          Description  Quantity  \\\n",
       "0    536365    85123A   WHITE HANGING HEART T-LIGHT HOLDER         6   \n",
       "1    536365     71053                  WHITE METAL LANTERN         6   \n",
       "2    536365    84406B       CREAM CUPID HEARTS COAT HANGER         8   \n",
       "3    536365    84029G  KNITTED UNION FLAG HOT WATER BOTTLE         6   \n",
       "4    536365    84029E       RED WOOLLY HOTTIE WHITE HEART.         6   \n",
       "\n",
       "          InvoiceDate  UnitPrice  CustomerID         Country  TotalAmount  \n",
       "0 2010-12-01 08:26:00       2.55       17850  United Kingdom        15.30  \n",
       "1 2010-12-01 08:26:00       3.39       17850  United Kingdom        20.34  \n",
       "2 2010-12-01 08:26:00       2.75       17850  United Kingdom        22.00  \n",
       "3 2010-12-01 08:26:00       3.39       17850  United Kingdom        20.34  \n",
       "4 2010-12-01 08:26:00       3.39       17850  United Kingdom        20.34  "
      ]
     },
     "execution_count": 14,
     "metadata": {},
     "output_type": "execute_result"
    }
   ],
   "source": [
    "# Removing cancelled orders as we want to focus on shopped items only\n",
    "cancelled_orders_df = retail_dataset[retail_dataset['InvoiceNo'].str.startswith('C', na=False)]\n",
    "retail_dataset = retail_dataset[~retail_dataset['InvoiceNo'].str.startswith('C', na=False)]\n",
    "retail_dataset.head()\n",
    "cancelled_orders_df.reset_index()\n",
    "retail_dataset.reset_index()\n",
    "\n",
    "# Calculating the total amount of items returned\n",
    "cancelled_orders_df['TotalAmount'] = cancelled_orders_df['UnitPrice']*cancelled_orders_df['Quantity']\n",
    "print(\"Total cancelled order amount: £\", cancelled_orders_df['TotalAmount'].sum())\n",
    "\n",
    "# As there are no cancelled/returned items we can calculate total amount\n",
    "retail_dataset['TotalAmount'] = retail_dataset['UnitPrice']*retail_dataset['Quantity']\n",
    "retail_dataset.head()"
   ]
  },
  {
   "cell_type": "code",
   "execution_count": 15,
   "metadata": {},
   "outputs": [
    {
     "data": {
      "text/plain": [
       "<AxesSubplot:>"
      ]
     },
     "execution_count": 15,
     "metadata": {},
     "output_type": "execute_result"
    },
    {
     "data": {
      "image/png": "[encoded data removed]",
      "text/plain": [
       "<Figure size 432x288 with 1 Axes>"
      ]
     },
     "metadata": {
      "needs_background": "light"
     },
     "output_type": "display_data"
    }
   ],
   "source": [
    "# Checking for outliers\n",
    "retail_dataset.boxplot()"
   ]
  },
  {
   "cell_type": "code",
   "execution_count": 16,
   "metadata": {},
   "outputs": [
    {
     "name": "stdout",
     "output_type": "stream",
     "text": [
      "       InvoiceNo StockCode                     Description  Quantity  \\\n",
      "61619     541431     23166  MEDIUM CERAMIC TOP STORAGE JAR     74215   \n",
      "540421    581483     23843     PAPER CRAFT , LITTLE BIRDIE     80995   \n",
      "\n",
      "               InvoiceDate  UnitPrice  CustomerID         Country  TotalAmount  \n",
      "61619  2011-01-18 10:01:00       1.04       12346  United Kingdom      77183.6  \n",
      "540421 2011-12-09 09:15:00       2.08       16446  United Kingdom     168469.6  \n"
     ]
    }
   ],
   "source": [
    "# Removing outliers as KMeans is sensitive to outliers\n",
    "print(retail_dataset[retail_dataset['Quantity']>20000])\n",
    "retail_dataset = retail_dataset[retail_dataset['Quantity'] < 20000]"
   ]
  },
  {
   "cell_type": "markdown",
   "metadata": {},
   "source": [
    "# 2.a > Create month cohorts and analyse active  customers for each cohort"
   ]
  },
  {
   "cell_type": "code",
   "execution_count": 17,
   "metadata": {},
   "outputs": [
    {
     "data": {
      "text/html": [
       "<div>\n",
       "<style scoped>\n",
       "    .dataframe tbody tr th:only-of-type {\n",
       "        vertical-align: middle;\n",
       "    }\n",
       "\n",
       "    .dataframe tbody tr th {\n",
       "        vertical-align: top;\n",
       "    }\n",
       "\n",
       "    .dataframe thead th {\n",
       "        text-align: right;\n",
       "    }\n",
       "</style>\n",
       "<table border=\"1\" class=\"dataframe\">\n",
       "  <thead>\n",
       "    <tr style=\"text-align: right;\">\n",
       "      <th></th>\n",
       "      <th>InvoiceNo</th>\n",
       "      <th>StockCode</th>\n",
       "      <th>Description</th>\n",
       "      <th>Quantity</th>\n",
       "      <th>InvoiceDate</th>\n",
       "      <th>UnitPrice</th>\n",
       "      <th>CustomerID</th>\n",
       "      <th>Country</th>\n",
       "      <th>TotalAmount</th>\n",
       "      <th>InvoiceDate_Month</th>\n",
       "    </tr>\n",
       "  </thead>\n",
       "  <tbody>\n",
       "    <tr>\n",
       "      <th>0</th>\n",
       "      <td>536365</td>\n",
       "      <td>85123A</td>\n",
       "      <td>WHITE HANGING HEART T-LIGHT HOLDER</td>\n",
       "      <td>6</td>\n",
       "      <td>2010-12-01 08:26:00</td>\n",
       "      <td>2.55</td>\n",
       "      <td>17850</td>\n",
       "      <td>United Kingdom</td>\n",
       "      <td>15.30</td>\n",
       "      <td>2010-12-01</td>\n",
       "    </tr>\n",
       "    <tr>\n",
       "      <th>1</th>\n",
       "      <td>536365</td>\n",
       "      <td>71053</td>\n",
       "      <td>WHITE METAL LANTERN</td>\n",
       "      <td>6</td>\n",
       "      <td>2010-12-01 08:26:00</td>\n",
       "      <td>3.39</td>\n",
       "      <td>17850</td>\n",
       "      <td>United Kingdom</td>\n",
       "      <td>20.34</td>\n",
       "      <td>2010-12-01</td>\n",
       "    </tr>\n",
       "    <tr>\n",
       "      <th>2</th>\n",
       "      <td>536365</td>\n",
       "      <td>84406B</td>\n",
       "      <td>CREAM CUPID HEARTS COAT HANGER</td>\n",
       "      <td>8</td>\n",
       "      <td>2010-12-01 08:26:00</td>\n",
       "      <td>2.75</td>\n",
       "      <td>17850</td>\n",
       "      <td>United Kingdom</td>\n",
       "      <td>22.00</td>\n",
       "      <td>2010-12-01</td>\n",
       "    </tr>\n",
       "    <tr>\n",
       "      <th>3</th>\n",
       "      <td>536365</td>\n",
       "      <td>84029G</td>\n",
       "      <td>KNITTED UNION FLAG HOT WATER BOTTLE</td>\n",
       "      <td>6</td>\n",
       "      <td>2010-12-01 08:26:00</td>\n",
       "      <td>3.39</td>\n",
       "      <td>17850</td>\n",
       "      <td>United Kingdom</td>\n",
       "      <td>20.34</td>\n",
       "      <td>2010-12-01</td>\n",
       "    </tr>\n",
       "    <tr>\n",
       "      <th>4</th>\n",
       "      <td>536365</td>\n",
       "      <td>84029E</td>\n",
       "      <td>RED WOOLLY HOTTIE WHITE HEART.</td>\n",
       "      <td>6</td>\n",
       "      <td>2010-12-01 08:26:00</td>\n",
       "      <td>3.39</td>\n",
       "      <td>17850</td>\n",
       "      <td>United Kingdom</td>\n",
       "      <td>20.34</td>\n",
       "      <td>2010-12-01</td>\n",
       "    </tr>\n",
       "  </tbody>\n",
       "</table>\n",
       "</div>"
      ],
      "text/plain": [
       "  InvoiceNo StockCode                          Description  Quantity  \\\n",
       "0    536365    85123A   WHITE HANGING HEART T-LIGHT HOLDER         6   \n",
       "1    536365     71053                  WHITE METAL LANTERN         6   \n",
       "2    536365    84406B       CREAM CUPID HEARTS COAT HANGER         8   \n",
       "3    536365    84029G  KNITTED UNION FLAG HOT WATER BOTTLE         6   \n",
       "4    536365    84029E       RED WOOLLY HOTTIE WHITE HEART.         6   \n",
       "\n",
       "          InvoiceDate  UnitPrice  CustomerID         Country  TotalAmount  \\\n",
       "0 2010-12-01 08:26:00       2.55       17850  United Kingdom        15.30   \n",
       "1 2010-12-01 08:26:00       3.39       17850  United Kingdom        20.34   \n",
       "2 2010-12-01 08:26:00       2.75       17850  United Kingdom        22.00   \n",
       "3 2010-12-01 08:26:00       3.39       17850  United Kingdom        20.34   \n",
       "4 2010-12-01 08:26:00       3.39       17850  United Kingdom        20.34   \n",
       "\n",
       "  InvoiceDate_Month  \n",
       "0        2010-12-01  \n",
       "1        2010-12-01  \n",
       "2        2010-12-01  \n",
       "3        2010-12-01  \n",
       "4        2010-12-01  "
      ]
     },
     "execution_count": 17,
     "metadata": {},
     "output_type": "execute_result"
    }
   ],
   "source": [
    "# Function to extract month and year from date\n",
    "def extractMonth(date):\n",
    "    return dt.datetime(date.year, date.month, 1)\n",
    "\n",
    "# creating a new column to save the month and year\n",
    "retail_dataset['InvoiceDate_Month'] = retail_dataset['InvoiceDate'].apply(extractMonth)\n",
    "retail_dataset.head()"
   ]
  },
  {
   "cell_type": "code",
   "execution_count": 18,
   "metadata": {},
   "outputs": [
    {
     "name": "stdout",
     "output_type": "stream",
     "text": [
      "Number of customers shopped by month::\n",
      "12 . 2010  ::  885\n",
      "1 . 2011  ::  740\n",
      "2 . 2011  ::  758\n",
      "3 . 2011  ::  974\n",
      "4 . 2011  ::  856\n",
      "5 . 2011  ::  1056\n",
      "6 . 2011  ::  991\n",
      "7 . 2011  ::  949\n",
      "8 . 2011  ::  935\n",
      "9 . 2011  ::  1266\n",
      "10 . 2011  ::  1364\n",
      "11 . 2011  ::  1665\n",
      "12 . 2011  ::  614\n"
     ]
    },
    {
     "data": {
      "text/plain": [
       "[<matplotlib.lines.Line2D at 0x7f6fcfceab90>]"
      ]
     },
     "execution_count": 18,
     "metadata": {},
     "output_type": "execute_result"
    },
    {
     "data": {
      "image/png": "[encoded data removed]",
      "text/plain": [
       "<Figure size 1080x720 with 1 Axes>"
      ]
     },
     "metadata": {
      "needs_background": "light"
     },
     "output_type": "display_data"
    }
   ],
   "source": [
    "# Grouping according to Month\n",
    "monthly_frequency = retail_dataset.groupby(['InvoiceDate_Month'])\n",
    "\n",
    "index = monthly_frequency.size().index\n",
    "cust_list = []\n",
    "\n",
    "print('Number of customers shopped by month::')\n",
    "for i in index:\n",
    "    f = monthly_frequency.get_group(i)['CustomerID'].nunique()\n",
    "    cust_list.append(f)\n",
    "    print(i.month, '.', i.year, ' :: ', f)\n",
    "    \n",
    "plt.rcParams[\"figure.figsize\"] = [15,10] \n",
    "plt.title(\"Trend chart for the number of customers at monthly granularity levels.\")\n",
    "plt.xlabel(\"Months\")\n",
    "plt.ylabel(\"Customers\")\n",
    "plt.plot(index, cust_list)\n",
    "\n",
    "# Insight: From the analysis, we see that November, 2011 \n",
    "# is the month where most customers shopped \n",
    "# with 1665 being total number of customers\n"
   ]
  },
  {
   "cell_type": "markdown",
   "metadata": {},
   "source": [
    "# 2.b > Also Analyse the retention rate of customers"
   ]
  },
  {
   "cell_type": "code",
   "execution_count": 19,
   "metadata": {},
   "outputs": [
    {
     "name": "stdout",
     "output_type": "stream",
     "text": [
      "CustomerID\n",
      "12347     7\n",
      "12348     4\n",
      "12349     1\n",
      "12350     1\n",
      "12352     4\n",
      "         ..\n",
      "18280     1\n",
      "18281     1\n",
      "18282     2\n",
      "18283    10\n",
      "18287     2\n",
      "Name: InvoiceDate_Month, Length: 4338, dtype: int64\n"
     ]
    }
   ],
   "source": [
    "# Group by unique customers\n",
    "customer_groupby = retail_dataset.groupby('CustomerID')\n",
    "\n",
    "# Get how many months each customer shopped\n",
    "# 12 meaning customer shopped all 12 months - hence more loyal \n",
    "# Hence, business would know who the loyal customers are\n",
    "cust_freq = customer_groupby['InvoiceDate_Month']\n",
    "print(cust_freq.nunique())\n",
    "\n",
    "# Find out when each customer first shopped at site\n",
    "retail_dataset['FirstShopped'] = cust_freq.transform('min')\n"
   ]
  },
  {
   "cell_type": "code",
   "execution_count": 20,
   "metadata": {},
   "outputs": [],
   "source": [
    "# Find the time in months since first a customer shopped to find retention\n",
    "year = retail_dataset['InvoiceDate_Month'].dt.year - retail_dataset['FirstShopped'].dt.year\n",
    "month = retail_dataset['InvoiceDate_Month'].dt.month - retail_dataset['FirstShopped'].dt.month\n",
    "retail_dataset['MonthDiff'] = year*12 + month + 1"
   ]
  },
  {
   "cell_type": "code",
   "execution_count": 21,
   "metadata": {},
   "outputs": [
    {
     "name": "stdout",
     "output_type": "stream",
     "text": [
      "MonthDiff        1          2          3          4          5          6   \\\n",
      "FirstShopped                                                                 \n",
      "2010-12-01    100.0  36.610169  32.316384  38.418079  36.271186  39.774011   \n",
      "2011-01-01    100.0  22.115385  26.682692  23.076923  32.211538  28.846154   \n",
      "2011-02-01    100.0  18.684211  18.684211  28.421053  27.105263  24.736842   \n",
      "2011-03-01    100.0  15.044248  25.221239  19.911504  22.345133  16.814159   \n",
      "2011-04-01    100.0  21.333333  20.333333  21.000000  19.666667  22.666667   \n",
      "2011-05-01    100.0  19.014085  17.253521  17.253521  20.774648  23.239437   \n",
      "2011-06-01    100.0  17.355372  15.702479  26.446281  23.140496  33.471074   \n",
      "2011-07-01    100.0  18.085106  20.744681  22.340426  27.127660  11.170213   \n",
      "2011-08-01    100.0  20.710059  24.852071  24.260355  12.426036        NaN   \n",
      "2011-09-01    100.0  23.411371  30.100334  11.371237        NaN        NaN   \n",
      "2011-10-01    100.0  24.022346  11.452514        NaN        NaN        NaN   \n",
      "2011-11-01    100.0  11.111111        NaN        NaN        NaN        NaN   \n",
      "2011-12-01    100.0        NaN        NaN        NaN        NaN        NaN   \n",
      "\n",
      "MonthDiff            7          8          9          10         11  \\\n",
      "FirstShopped                                                          \n",
      "2010-12-01    36.271186  34.915254  35.367232  39.548023  37.401130   \n",
      "2011-01-01    24.759615  24.278846  30.048077  32.692308  36.538462   \n",
      "2011-02-01    25.263158  27.894737  24.736842  30.526316   6.842105   \n",
      "2011-03-01    26.769912  23.008850  27.876106   8.628319        NaN   \n",
      "2011-04-01    21.666667  26.000000   7.333333        NaN        NaN   \n",
      "2011-05-01    26.408451   9.154930        NaN        NaN        NaN   \n",
      "2011-06-01     9.504132        NaN        NaN        NaN        NaN   \n",
      "2011-07-01          NaN        NaN        NaN        NaN        NaN   \n",
      "2011-08-01          NaN        NaN        NaN        NaN        NaN   \n",
      "2011-09-01          NaN        NaN        NaN        NaN        NaN   \n",
      "2011-10-01          NaN        NaN        NaN        NaN        NaN   \n",
      "2011-11-01          NaN        NaN        NaN        NaN        NaN   \n",
      "2011-12-01          NaN        NaN        NaN        NaN        NaN   \n",
      "\n",
      "MonthDiff            12         13  \n",
      "FirstShopped                        \n",
      "2010-12-01    50.282486  26.553672  \n",
      "2011-01-01    11.778846        NaN  \n",
      "2011-02-01          NaN        NaN  \n",
      "2011-03-01          NaN        NaN  \n",
      "2011-04-01          NaN        NaN  \n",
      "2011-05-01          NaN        NaN  \n",
      "2011-06-01          NaN        NaN  \n",
      "2011-07-01          NaN        NaN  \n",
      "2011-08-01          NaN        NaN  \n",
      "2011-09-01          NaN        NaN  \n",
      "2011-10-01          NaN        NaN  \n",
      "2011-11-01          NaN        NaN  \n",
      "2011-12-01          NaN        NaN  \n"
     ]
    }
   ],
   "source": [
    "\n",
    "grouping = retail_dataset.groupby(['FirstShopped', 'MonthDiff'])\n",
    "\n",
    "# Count the number of unique values per Customer ID\n",
    "cohort_data = grouping['CustomerID'].nunique().reset_index()\n",
    "#print(cohort_data)\n",
    "\n",
    "# Create a pivot\n",
    "cohort_counts = cohort_data.pivot(index='FirstShopped', columns='MonthDiff', values='CustomerID')\n",
    "#print(cohort_counts)\n",
    "\n",
    "# Select the first column and store it to cohort_sizes\n",
    "cohort_sizes = cohort_counts.iloc[:,0]\n",
    "#print(cohort_sizes)\n",
    "\n",
    "# Divide the cohort count by cohort sizes along the rows\n",
    "retention = cohort_counts.divide(cohort_sizes, axis=0)*100\n",
    "print(retention)\n"
   ]
  },
  {
   "cell_type": "code",
   "execution_count": 22,
   "metadata": {},
   "outputs": [
    {
     "data": {
      "image/png": "[encoded data removed]",
      "text/plain": [
       "<Figure size 1080x720 with 2 Axes>"
      ]
     },
     "metadata": {
      "needs_background": "light"
     },
     "output_type": "display_data"
    }
   ],
   "source": [
    "\n",
    "def get_month_name(x):\n",
    "   return x.strftime('%b-%y')\n",
    "\n",
    "month_list = retention.reset_index()['FirstShopped']\n",
    "month_list = month_list.apply(get_month_name)\n",
    "\n",
    "plt.title('Customer Retention Rate by Month')\n",
    "sns.heatmap(data=retention,\n",
    "            annot = True,\n",
    "            fmt = '.1f',\n",
    "           yticklabels=month_list)\n",
    "plt.show();"
   ]
  },
  {
   "cell_type": "code",
   "execution_count": 23,
   "metadata": {},
   "outputs": [],
   "source": [
    "# We see that the retention rates plunges after 1 month. \n",
    "# Of the people that became customers in December 2010, only 36.6% makes another purchase the next month.\n",
    "# After this initial plunge, this number remains steady.\n"
   ]
  },
  {
   "cell_type": "markdown",
   "metadata": {},
   "source": [
    "# 3. Build a RFM model "
   ]
  },
  {
   "cell_type": "markdown",
   "metadata": {},
   "source": [
    "# 3.a.i> Recency - the last order of a customer"
   ]
  },
  {
   "cell_type": "code",
   "execution_count": 24,
   "metadata": {},
   "outputs": [
    {
     "name": "stdout",
     "output_type": "stream",
     "text": [
      "The last customer to order: \n",
      "                    LastShopped\n",
      "CustomerID                    \n",
      "12680      2011-12-09 12:50:00\n"
     ]
    },
    {
     "data": {
      "text/html": [
       "<div>\n",
       "<style scoped>\n",
       "    .dataframe tbody tr th:only-of-type {\n",
       "        vertical-align: middle;\n",
       "    }\n",
       "\n",
       "    .dataframe tbody tr th {\n",
       "        vertical-align: top;\n",
       "    }\n",
       "\n",
       "    .dataframe thead th {\n",
       "        text-align: right;\n",
       "    }\n",
       "</style>\n",
       "<table border=\"1\" class=\"dataframe\">\n",
       "  <thead>\n",
       "    <tr style=\"text-align: right;\">\n",
       "      <th></th>\n",
       "      <th>Recency</th>\n",
       "    </tr>\n",
       "    <tr>\n",
       "      <th>CustomerID</th>\n",
       "      <th></th>\n",
       "    </tr>\n",
       "  </thead>\n",
       "  <tbody>\n",
       "    <tr>\n",
       "      <th>12347</th>\n",
       "      <td>1</td>\n",
       "    </tr>\n",
       "    <tr>\n",
       "      <th>12348</th>\n",
       "      <td>74</td>\n",
       "    </tr>\n",
       "    <tr>\n",
       "      <th>12349</th>\n",
       "      <td>18</td>\n",
       "    </tr>\n",
       "    <tr>\n",
       "      <th>12350</th>\n",
       "      <td>309</td>\n",
       "    </tr>\n",
       "    <tr>\n",
       "      <th>12352</th>\n",
       "      <td>35</td>\n",
       "    </tr>\n",
       "  </tbody>\n",
       "</table>\n",
       "</div>"
      ],
      "text/plain": [
       "            Recency\n",
       "CustomerID         \n",
       "12347             1\n",
       "12348            74\n",
       "12349            18\n",
       "12350           309\n",
       "12352            35"
      ]
     },
     "execution_count": 24,
     "metadata": {},
     "output_type": "execute_result"
    }
   ],
   "source": [
    "# First, find the most recent order\n",
    "last_order = retail_dataset['InvoiceDate'].max()\n",
    "\n",
    "# For each customer, find the most recent date they shopped in the site\n",
    "recency = retail_dataset.groupby(['CustomerID'])['InvoiceDate'].max()\n",
    "recency = recency.rename(\"LastShopped\")\n",
    "rfm_df = pd.DataFrame(recency)\n",
    "\n",
    "print(\"The last customer to order: \\n\", rfm_df[rfm_df['LastShopped'] == last_order])\n",
    "\n",
    "rfm_df['Recency'] = (last_order - rfm_df['LastShopped']).dt.days\n",
    "rfm_df.pop('LastShopped')\n",
    "rfm_df.head()"
   ]
  },
  {
   "cell_type": "code",
   "execution_count": 25,
   "metadata": {},
   "outputs": [
    {
     "data": {
      "text/plain": [
       "<AxesSubplot:ylabel='Frequency'>"
      ]
     },
     "execution_count": 25,
     "metadata": {},
     "output_type": "execute_result"
    },
    {
     "data": {
      "image/png": "[encoded data removed]",
      "text/plain": [
       "<Figure size 1080x720 with 1 Axes>"
      ]
     },
     "metadata": {
      "needs_background": "light"
     },
     "output_type": "display_data"
    }
   ],
   "source": [
    "rfm_df.plot.hist(bins=13)\n",
    "\n",
    "# Distribution is right skewed indicating that number of customers decreased \n",
    "# the first few months before becoming stable\n",
    "# Business needs to work on Customer retention"
   ]
  },
  {
   "cell_type": "markdown",
   "metadata": {},
   "source": [
    "# 3. a. ii > Frequency as  count of purchases done "
   ]
  },
  {
   "cell_type": "code",
   "execution_count": 26,
   "metadata": {},
   "outputs": [
    {
     "data": {
      "text/html": [
       "<div>\n",
       "<style scoped>\n",
       "    .dataframe tbody tr th:only-of-type {\n",
       "        vertical-align: middle;\n",
       "    }\n",
       "\n",
       "    .dataframe tbody tr th {\n",
       "        vertical-align: top;\n",
       "    }\n",
       "\n",
       "    .dataframe thead th {\n",
       "        text-align: right;\n",
       "    }\n",
       "</style>\n",
       "<table border=\"1\" class=\"dataframe\">\n",
       "  <thead>\n",
       "    <tr style=\"text-align: right;\">\n",
       "      <th></th>\n",
       "      <th>Recency</th>\n",
       "      <th>Frequency</th>\n",
       "    </tr>\n",
       "    <tr>\n",
       "      <th>CustomerID</th>\n",
       "      <th></th>\n",
       "      <th></th>\n",
       "    </tr>\n",
       "  </thead>\n",
       "  <tbody>\n",
       "    <tr>\n",
       "      <th>12347</th>\n",
       "      <td>1</td>\n",
       "      <td>7</td>\n",
       "    </tr>\n",
       "    <tr>\n",
       "      <th>12348</th>\n",
       "      <td>74</td>\n",
       "      <td>4</td>\n",
       "    </tr>\n",
       "    <tr>\n",
       "      <th>12349</th>\n",
       "      <td>18</td>\n",
       "      <td>1</td>\n",
       "    </tr>\n",
       "    <tr>\n",
       "      <th>12350</th>\n",
       "      <td>309</td>\n",
       "      <td>1</td>\n",
       "    </tr>\n",
       "    <tr>\n",
       "      <th>12352</th>\n",
       "      <td>35</td>\n",
       "      <td>8</td>\n",
       "    </tr>\n",
       "  </tbody>\n",
       "</table>\n",
       "</div>"
      ],
      "text/plain": [
       "            Recency  Frequency\n",
       "CustomerID                    \n",
       "12347             1          7\n",
       "12348            74          4\n",
       "12349            18          1\n",
       "12350           309          1\n",
       "12352            35          8"
      ]
     },
     "execution_count": 26,
     "metadata": {},
     "output_type": "execute_result"
    }
   ],
   "source": [
    "# Find frequency of customers - how many times a customer purchased items from the shop\n",
    "frequency = customer_groupby['InvoiceNo'].nunique()\n",
    "frequency = frequency.rename('Frequency')\n",
    "rfm_df = rfm_df.merge(frequency, on='CustomerID')\n",
    "rfm_df.head()"
   ]
  },
  {
   "cell_type": "code",
   "execution_count": 27,
   "metadata": {},
   "outputs": [
    {
     "data": {
      "text/plain": [
       "<AxesSubplot:title={'center':'Frequency'}, xlabel='CustomerID'>"
      ]
     },
     "execution_count": 27,
     "metadata": {},
     "output_type": "execute_result"
    },
    {
     "data": {
      "image/png": "[encoded data removed]",
      "text/plain": [
       "<Figure size 1080x720 with 1 Axes>"
      ]
     },
     "metadata": {
      "needs_background": "light"
     },
     "output_type": "display_data"
    }
   ],
   "source": [
    "rfm_df['Frequency'].plot(kind='line', title='Frequency', color='green')"
   ]
  },
  {
   "cell_type": "code",
   "execution_count": 28,
   "metadata": {},
   "outputs": [
    {
     "name": "stdout",
     "output_type": "stream",
     "text": [
      "Customer who shopped the most: \n",
      "            Recency  Frequency\n",
      "CustomerID                    \n",
      "12748             0        210\n"
     ]
    }
   ],
   "source": [
    "print(\"Customer who shopped the most: \")\n",
    "print(rfm_df[rfm_df['Frequency'] == rfm_df['Frequency'].max()])\n",
    "# The most loyal customer data is found who is also the last customer to shop"
   ]
  },
  {
   "cell_type": "code",
   "execution_count": 29,
   "metadata": {},
   "outputs": [
    {
     "data": {
      "text/plain": [
       "Frequency\n",
       "1      1494\n",
       "2       834\n",
       "3       508\n",
       "4       387\n",
       "5       243\n",
       "6       172\n",
       "7       143\n",
       "8        98\n",
       "9        68\n",
       "10       54\n",
       "11       52\n",
       "12       45\n",
       "13       30\n",
       "14       20\n",
       "15       28\n",
       "16       11\n",
       "17       18\n",
       "18       14\n",
       "19       12\n",
       "20       12\n",
       "21       11\n",
       "22        5\n",
       "23        5\n",
       "24        3\n",
       "25        8\n",
       "26        7\n",
       "27        3\n",
       "28        6\n",
       "29        1\n",
       "30        4\n",
       "31        3\n",
       "32        3\n",
       "33        2\n",
       "34        3\n",
       "35        1\n",
       "37        3\n",
       "38        2\n",
       "39        2\n",
       "41        1\n",
       "44        1\n",
       "45        1\n",
       "46        1\n",
       "47        2\n",
       "48        1\n",
       "50        1\n",
       "51        1\n",
       "55        2\n",
       "57        1\n",
       "60        1\n",
       "62        1\n",
       "63        1\n",
       "74        1\n",
       "86        1\n",
       "91        1\n",
       "93        1\n",
       "97        1\n",
       "124       1\n",
       "201       1\n",
       "210       1\n",
       "dtype: int64"
      ]
     },
     "execution_count": 29,
     "metadata": {},
     "output_type": "execute_result"
    }
   ],
   "source": [
    "rfm_df.groupby('Frequency').size()"
   ]
  },
  {
   "cell_type": "code",
   "execution_count": 30,
   "metadata": {},
   "outputs": [
    {
     "data": {
      "text/html": [
       "<div>\n",
       "<style scoped>\n",
       "    .dataframe tbody tr th:only-of-type {\n",
       "        vertical-align: middle;\n",
       "    }\n",
       "\n",
       "    .dataframe tbody tr th {\n",
       "        vertical-align: top;\n",
       "    }\n",
       "\n",
       "    .dataframe thead th {\n",
       "        text-align: right;\n",
       "    }\n",
       "</style>\n",
       "<table border=\"1\" class=\"dataframe\">\n",
       "  <thead>\n",
       "    <tr style=\"text-align: right;\">\n",
       "      <th></th>\n",
       "      <th>Recency</th>\n",
       "      <th>Frequency</th>\n",
       "    </tr>\n",
       "  </thead>\n",
       "  <tbody>\n",
       "    <tr>\n",
       "      <th>count</th>\n",
       "      <td>4338.000000</td>\n",
       "      <td>4338.000000</td>\n",
       "    </tr>\n",
       "    <tr>\n",
       "      <th>mean</th>\n",
       "      <td>91.511757</td>\n",
       "      <td>4.272476</td>\n",
       "    </tr>\n",
       "    <tr>\n",
       "      <th>std</th>\n",
       "      <td>99.963616</td>\n",
       "      <td>7.706304</td>\n",
       "    </tr>\n",
       "    <tr>\n",
       "      <th>min</th>\n",
       "      <td>0.000000</td>\n",
       "      <td>1.000000</td>\n",
       "    </tr>\n",
       "    <tr>\n",
       "      <th>25%</th>\n",
       "      <td>17.000000</td>\n",
       "      <td>1.000000</td>\n",
       "    </tr>\n",
       "    <tr>\n",
       "      <th>50%</th>\n",
       "      <td>50.000000</td>\n",
       "      <td>2.000000</td>\n",
       "    </tr>\n",
       "    <tr>\n",
       "      <th>75%</th>\n",
       "      <td>141.000000</td>\n",
       "      <td>5.000000</td>\n",
       "    </tr>\n",
       "    <tr>\n",
       "      <th>max</th>\n",
       "      <td>373.000000</td>\n",
       "      <td>210.000000</td>\n",
       "    </tr>\n",
       "  </tbody>\n",
       "</table>\n",
       "</div>"
      ],
      "text/plain": [
       "           Recency    Frequency\n",
       "count  4338.000000  4338.000000\n",
       "mean     91.511757     4.272476\n",
       "std      99.963616     7.706304\n",
       "min       0.000000     1.000000\n",
       "25%      17.000000     1.000000\n",
       "50%      50.000000     2.000000\n",
       "75%     141.000000     5.000000\n",
       "max     373.000000   210.000000"
      ]
     },
     "execution_count": 30,
     "metadata": {},
     "output_type": "execute_result"
    }
   ],
   "source": [
    "rfm_df.describe()\n",
    "\n",
    "# By looking at the Frequency data we infer that customers have shopped 4 times on an average\n",
    "# Only 2 customers shopped more than 200 times\n",
    "# 1494 customers have shopped just once in the year\n"
   ]
  },
  {
   "cell_type": "markdown",
   "metadata": {},
   "source": [
    "# 3.a.iii > Monetary value  as total amount spend."
   ]
  },
  {
   "cell_type": "code",
   "execution_count": 31,
   "metadata": {},
   "outputs": [
    {
     "data": {
      "text/html": [
       "<div>\n",
       "<style scoped>\n",
       "    .dataframe tbody tr th:only-of-type {\n",
       "        vertical-align: middle;\n",
       "    }\n",
       "\n",
       "    .dataframe tbody tr th {\n",
       "        vertical-align: top;\n",
       "    }\n",
       "\n",
       "    .dataframe thead th {\n",
       "        text-align: right;\n",
       "    }\n",
       "</style>\n",
       "<table border=\"1\" class=\"dataframe\">\n",
       "  <thead>\n",
       "    <tr style=\"text-align: right;\">\n",
       "      <th></th>\n",
       "      <th>Recency</th>\n",
       "      <th>Frequency</th>\n",
       "      <th>Monetary</th>\n",
       "    </tr>\n",
       "    <tr>\n",
       "      <th>CustomerID</th>\n",
       "      <th></th>\n",
       "      <th></th>\n",
       "      <th></th>\n",
       "    </tr>\n",
       "  </thead>\n",
       "  <tbody>\n",
       "    <tr>\n",
       "      <th>12347</th>\n",
       "      <td>1</td>\n",
       "      <td>7</td>\n",
       "      <td>4310.00</td>\n",
       "    </tr>\n",
       "    <tr>\n",
       "      <th>12348</th>\n",
       "      <td>74</td>\n",
       "      <td>4</td>\n",
       "      <td>1797.24</td>\n",
       "    </tr>\n",
       "    <tr>\n",
       "      <th>12349</th>\n",
       "      <td>18</td>\n",
       "      <td>1</td>\n",
       "      <td>1757.55</td>\n",
       "    </tr>\n",
       "    <tr>\n",
       "      <th>12350</th>\n",
       "      <td>309</td>\n",
       "      <td>1</td>\n",
       "      <td>334.40</td>\n",
       "    </tr>\n",
       "    <tr>\n",
       "      <th>12352</th>\n",
       "      <td>35</td>\n",
       "      <td>8</td>\n",
       "      <td>2506.04</td>\n",
       "    </tr>\n",
       "    <tr>\n",
       "      <th>...</th>\n",
       "      <td>...</td>\n",
       "      <td>...</td>\n",
       "      <td>...</td>\n",
       "    </tr>\n",
       "    <tr>\n",
       "      <th>18280</th>\n",
       "      <td>277</td>\n",
       "      <td>1</td>\n",
       "      <td>180.60</td>\n",
       "    </tr>\n",
       "    <tr>\n",
       "      <th>18281</th>\n",
       "      <td>180</td>\n",
       "      <td>1</td>\n",
       "      <td>80.82</td>\n",
       "    </tr>\n",
       "    <tr>\n",
       "      <th>18282</th>\n",
       "      <td>7</td>\n",
       "      <td>2</td>\n",
       "      <td>178.05</td>\n",
       "    </tr>\n",
       "    <tr>\n",
       "      <th>18283</th>\n",
       "      <td>3</td>\n",
       "      <td>16</td>\n",
       "      <td>2045.53</td>\n",
       "    </tr>\n",
       "    <tr>\n",
       "      <th>18287</th>\n",
       "      <td>42</td>\n",
       "      <td>3</td>\n",
       "      <td>1837.28</td>\n",
       "    </tr>\n",
       "  </tbody>\n",
       "</table>\n",
       "<p>4338 rows × 3 columns</p>\n",
       "</div>"
      ],
      "text/plain": [
       "            Recency  Frequency  Monetary\n",
       "CustomerID                              \n",
       "12347             1          7   4310.00\n",
       "12348            74          4   1797.24\n",
       "12349            18          1   1757.55\n",
       "12350           309          1    334.40\n",
       "12352            35          8   2506.04\n",
       "...             ...        ...       ...\n",
       "18280           277          1    180.60\n",
       "18281           180          1     80.82\n",
       "18282             7          2    178.05\n",
       "18283             3         16   2045.53\n",
       "18287            42          3   1837.28\n",
       "\n",
       "[4338 rows x 3 columns]"
      ]
     },
     "execution_count": 31,
     "metadata": {},
     "output_type": "execute_result"
    }
   ],
   "source": [
    "# Calculate the total amount spent by each customer\n",
    "monetary = customer_groupby['TotalAmount'].sum()\n",
    "monetary = monetary.rename('Monetary')\n",
    "rfm_df = rfm_df.merge(monetary, on='CustomerID')\n",
    "rfm_df"
   ]
  },
  {
   "cell_type": "code",
   "execution_count": 32,
   "metadata": {},
   "outputs": [
    {
     "name": "stdout",
     "output_type": "stream",
     "text": [
      "Customer who spent the most money: \n",
      "            Recency  Frequency   Monetary\n",
      "CustomerID                               \n",
      "14646             1         74  280206.02\n"
     ]
    }
   ],
   "source": [
    "print(\"Customer who spent the most money: \")\n",
    "print(rfm_df[rfm_df['Monetary'] == rfm_df['Monetary'].max()])"
   ]
  },
  {
   "cell_type": "code",
   "execution_count": 33,
   "metadata": {},
   "outputs": [
    {
     "data": {
      "image/png": "[encoded data removed]",
      "text/plain": [
       "<Figure size 1080x720 with 1 Axes>"
      ]
     },
     "metadata": {
      "needs_background": "light"
     },
     "output_type": "display_data"
    }
   ],
   "source": [
    "ax = rfm_df['Monetary'].plot(xlabel='Customer ID', ylabel='Total Amount', color='yellow')"
   ]
  },
  {
   "cell_type": "code",
   "execution_count": 34,
   "metadata": {},
   "outputs": [
    {
     "name": "stdout",
     "output_type": "stream",
     "text": [
      "           Recency    Frequency       Monetary\n",
      "count  4338.000000  4338.000000    4338.000000\n",
      "mean     91.511757     4.272476    1992.059865\n",
      "std      99.963616     7.706304    8546.651533\n",
      "min       0.000000     1.000000       0.000000\n",
      "25%      17.000000     1.000000     306.210000\n",
      "50%      50.000000     2.000000     668.040000\n",
      "75%     141.000000     5.000000    1656.537500\n",
      "max     373.000000   210.000000  280206.020000\n",
      "Recency      896\n",
      "Frequency    896\n",
      "Monetary     896\n",
      "dtype: int64\n"
     ]
    }
   ],
   "source": [
    "print(rfm_df.describe())\n",
    "\n",
    "# The maximum money spent is $280206 by Customer ID 14646 \n",
    "# while lowest is 0.00 spent by Customer iD 13256 - which needs to be checked as unit price cannot be 0.0\n",
    "\n",
    "print(rfm_df[rfm_df.Monetary > rfm_df.Monetary.mean()].count())\n",
    "\n",
    "# Only 896 customers out of 4339 customers shopped more than the average amount \n"
   ]
  },
  {
   "cell_type": "code",
   "execution_count": 35,
   "metadata": {},
   "outputs": [
    {
     "data": {
      "image/png": "[encoded data removed]",
      "text/plain": [
       "<Figure size 360x360 with 1 Axes>"
      ]
     },
     "metadata": {
      "needs_background": "light"
     },
     "output_type": "display_data"
    }
   ],
   "source": [
    "ax = sns.displot(rfm_df['Recency'])"
   ]
  },
  {
   "cell_type": "code",
   "execution_count": 36,
   "metadata": {},
   "outputs": [
    {
     "data": {
      "image/png": "[encoded data removed]",
      "text/plain": [
       "<Figure size 360x360 with 1 Axes>"
      ]
     },
     "metadata": {
      "needs_background": "light"
     },
     "output_type": "display_data"
    }
   ],
   "source": [
    "ax = sns.displot(rfm_df['Frequency'])"
   ]
  },
  {
   "cell_type": "code",
   "execution_count": 37,
   "metadata": {},
   "outputs": [
    {
     "data": {
      "image/png": "[encoded data removed]",
      "text/plain": [
       "<Figure size 360x360 with 1 Axes>"
      ]
     },
     "metadata": {
      "needs_background": "light"
     },
     "output_type": "display_data"
    }
   ],
   "source": [
    "ax = sns.displot(rfm_df['Monetary'])"
   ]
  },
  {
   "cell_type": "code",
   "execution_count": 38,
   "metadata": {},
   "outputs": [],
   "source": [
    "# The data is positive skewed"
   ]
  },
  {
   "cell_type": "markdown",
   "metadata": {},
   "source": [
    "# 3.b.i > Calculate RFM Score"
   ]
  },
  {
   "cell_type": "code",
   "execution_count": 39,
   "metadata": {},
   "outputs": [],
   "source": [
    "# For Recency - Customers with low recency are more valued. \n",
    "# eg a customer who shopped 3 days ago is more valued than customer who shopped 200 days ago.\n",
    "rfm_df['r'] = pd.qcut(rfm_df['Recency'], q=5, labels=[5, 4, 3, 2, 1])"
   ]
  },
  {
   "cell_type": "code",
   "execution_count": 40,
   "metadata": {},
   "outputs": [],
   "source": [
    "# Calculating frequency score\n",
    "# Frequent customers get higher score\n",
    "rfm_df['f'] = pd.qcut(rfm_df['Frequency'].rank(method='first'), q=5, labels=[1,2,3,4,5])"
   ]
  },
  {
   "cell_type": "code",
   "execution_count": 41,
   "metadata": {},
   "outputs": [],
   "source": [
    "# Calculating Monetary score\n",
    "# Customers spending more get higher score\n",
    "rfm_df['m'] = pd.qcut(rfm_df['Monetary'], q=5, labels=[1,2,3,4,5])"
   ]
  },
  {
   "cell_type": "code",
   "execution_count": 42,
   "metadata": {},
   "outputs": [
    {
     "data": {
      "text/html": [
       "<div>\n",
       "<style scoped>\n",
       "    .dataframe tbody tr th:only-of-type {\n",
       "        vertical-align: middle;\n",
       "    }\n",
       "\n",
       "    .dataframe tbody tr th {\n",
       "        vertical-align: top;\n",
       "    }\n",
       "\n",
       "    .dataframe thead th {\n",
       "        text-align: right;\n",
       "    }\n",
       "</style>\n",
       "<table border=\"1\" class=\"dataframe\">\n",
       "  <thead>\n",
       "    <tr style=\"text-align: right;\">\n",
       "      <th></th>\n",
       "      <th>Recency</th>\n",
       "      <th>Frequency</th>\n",
       "      <th>Monetary</th>\n",
       "      <th>r</th>\n",
       "      <th>f</th>\n",
       "      <th>m</th>\n",
       "    </tr>\n",
       "    <tr>\n",
       "      <th>CustomerID</th>\n",
       "      <th></th>\n",
       "      <th></th>\n",
       "      <th></th>\n",
       "      <th></th>\n",
       "      <th></th>\n",
       "      <th></th>\n",
       "    </tr>\n",
       "  </thead>\n",
       "  <tbody>\n",
       "    <tr>\n",
       "      <th>12347</th>\n",
       "      <td>1</td>\n",
       "      <td>7</td>\n",
       "      <td>4310.00</td>\n",
       "      <td>5</td>\n",
       "      <td>5</td>\n",
       "      <td>5</td>\n",
       "    </tr>\n",
       "    <tr>\n",
       "      <th>12348</th>\n",
       "      <td>74</td>\n",
       "      <td>4</td>\n",
       "      <td>1797.24</td>\n",
       "      <td>2</td>\n",
       "      <td>4</td>\n",
       "      <td>4</td>\n",
       "    </tr>\n",
       "    <tr>\n",
       "      <th>12349</th>\n",
       "      <td>18</td>\n",
       "      <td>1</td>\n",
       "      <td>1757.55</td>\n",
       "      <td>4</td>\n",
       "      <td>1</td>\n",
       "      <td>4</td>\n",
       "    </tr>\n",
       "    <tr>\n",
       "      <th>12350</th>\n",
       "      <td>309</td>\n",
       "      <td>1</td>\n",
       "      <td>334.40</td>\n",
       "      <td>1</td>\n",
       "      <td>1</td>\n",
       "      <td>2</td>\n",
       "    </tr>\n",
       "    <tr>\n",
       "      <th>12352</th>\n",
       "      <td>35</td>\n",
       "      <td>8</td>\n",
       "      <td>2506.04</td>\n",
       "      <td>3</td>\n",
       "      <td>5</td>\n",
       "      <td>5</td>\n",
       "    </tr>\n",
       "  </tbody>\n",
       "</table>\n",
       "</div>"
      ],
      "text/plain": [
       "            Recency  Frequency  Monetary  r  f  m\n",
       "CustomerID                                       \n",
       "12347             1          7   4310.00  5  5  5\n",
       "12348            74          4   1797.24  2  4  4\n",
       "12349            18          1   1757.55  4  1  4\n",
       "12350           309          1    334.40  1  1  2\n",
       "12352            35          8   2506.04  3  5  5"
      ]
     },
     "execution_count": 42,
     "metadata": {},
     "output_type": "execute_result"
    }
   ],
   "source": [
    "rfm_df.head()"
   ]
  },
  {
   "cell_type": "code",
   "execution_count": 43,
   "metadata": {},
   "outputs": [
    {
     "data": {
      "text/html": [
       "<div>\n",
       "<style scoped>\n",
       "    .dataframe tbody tr th:only-of-type {\n",
       "        vertical-align: middle;\n",
       "    }\n",
       "\n",
       "    .dataframe tbody tr th {\n",
       "        vertical-align: top;\n",
       "    }\n",
       "\n",
       "    .dataframe thead th {\n",
       "        text-align: right;\n",
       "    }\n",
       "</style>\n",
       "<table border=\"1\" class=\"dataframe\">\n",
       "  <thead>\n",
       "    <tr style=\"text-align: right;\">\n",
       "      <th></th>\n",
       "      <th>count</th>\n",
       "      <th>mean</th>\n",
       "      <th>std</th>\n",
       "      <th>min</th>\n",
       "      <th>25%</th>\n",
       "      <th>50%</th>\n",
       "      <th>75%</th>\n",
       "      <th>max</th>\n",
       "    </tr>\n",
       "    <tr>\n",
       "      <th>r</th>\n",
       "      <th></th>\n",
       "      <th></th>\n",
       "      <th></th>\n",
       "      <th></th>\n",
       "      <th></th>\n",
       "      <th></th>\n",
       "      <th></th>\n",
       "      <th></th>\n",
       "    </tr>\n",
       "  </thead>\n",
       "  <tbody>\n",
       "    <tr>\n",
       "      <th>5</th>\n",
       "      <td>884.0</td>\n",
       "      <td>5.324661</td>\n",
       "      <td>3.803173</td>\n",
       "      <td>0.0</td>\n",
       "      <td>2.0</td>\n",
       "      <td>5.0</td>\n",
       "      <td>9.0</td>\n",
       "      <td>13.0</td>\n",
       "    </tr>\n",
       "    <tr>\n",
       "      <th>4</th>\n",
       "      <td>888.0</td>\n",
       "      <td>22.218468</td>\n",
       "      <td>5.560938</td>\n",
       "      <td>14.0</td>\n",
       "      <td>17.0</td>\n",
       "      <td>22.0</td>\n",
       "      <td>27.0</td>\n",
       "      <td>32.0</td>\n",
       "    </tr>\n",
       "    <tr>\n",
       "      <th>3</th>\n",
       "      <td>858.0</td>\n",
       "      <td>51.315851</td>\n",
       "      <td>11.220990</td>\n",
       "      <td>33.0</td>\n",
       "      <td>42.0</td>\n",
       "      <td>51.0</td>\n",
       "      <td>60.0</td>\n",
       "      <td>71.0</td>\n",
       "    </tr>\n",
       "    <tr>\n",
       "      <th>2</th>\n",
       "      <td>843.0</td>\n",
       "      <td>115.249110</td>\n",
       "      <td>32.653433</td>\n",
       "      <td>72.0</td>\n",
       "      <td>85.0</td>\n",
       "      <td>109.0</td>\n",
       "      <td>142.5</td>\n",
       "      <td>178.0</td>\n",
       "    </tr>\n",
       "    <tr>\n",
       "      <th>1</th>\n",
       "      <td>865.0</td>\n",
       "      <td>267.464740</td>\n",
       "      <td>57.140859</td>\n",
       "      <td>179.0</td>\n",
       "      <td>217.0</td>\n",
       "      <td>262.0</td>\n",
       "      <td>311.0</td>\n",
       "      <td>373.0</td>\n",
       "    </tr>\n",
       "  </tbody>\n",
       "</table>\n",
       "</div>"
      ],
      "text/plain": [
       "   count        mean        std    min    25%    50%    75%    max\n",
       "r                                                                 \n",
       "5  884.0    5.324661   3.803173    0.0    2.0    5.0    9.0   13.0\n",
       "4  888.0   22.218468   5.560938   14.0   17.0   22.0   27.0   32.0\n",
       "3  858.0   51.315851  11.220990   33.0   42.0   51.0   60.0   71.0\n",
       "2  843.0  115.249110  32.653433   72.0   85.0  109.0  142.5  178.0\n",
       "1  865.0  267.464740  57.140859  179.0  217.0  262.0  311.0  373.0"
      ]
     },
     "execution_count": 43,
     "metadata": {},
     "output_type": "execute_result"
    }
   ],
   "source": [
    "rfm_df.groupby('r', sort = True)['Recency'].describe()"
   ]
  },
  {
   "cell_type": "code",
   "execution_count": 44,
   "metadata": {},
   "outputs": [
    {
     "data": {
      "text/plain": [
       "<seaborn.axisgrid.FacetGrid at 0x7f6fbd470690>"
      ]
     },
     "execution_count": 44,
     "metadata": {},
     "output_type": "execute_result"
    },
    {
     "data": {
      "image/png": "[encoded data removed]",
      "text/plain": [
       "<Figure size 402.375x360 with 1 Axes>"
      ]
     },
     "metadata": {
      "needs_background": "light"
     },
     "output_type": "display_data"
    }
   ],
   "source": [
    "sns.lmplot(data=rfm_df, x='Recency', y='Frequency', hue='r')"
   ]
  },
  {
   "cell_type": "code",
   "execution_count": 45,
   "metadata": {},
   "outputs": [
    {
     "data": {
      "text/html": [
       "<div>\n",
       "<style scoped>\n",
       "    .dataframe tbody tr th:only-of-type {\n",
       "        vertical-align: middle;\n",
       "    }\n",
       "\n",
       "    .dataframe tbody tr th {\n",
       "        vertical-align: top;\n",
       "    }\n",
       "\n",
       "    .dataframe thead th {\n",
       "        text-align: right;\n",
       "    }\n",
       "</style>\n",
       "<table border=\"1\" class=\"dataframe\">\n",
       "  <thead>\n",
       "    <tr style=\"text-align: right;\">\n",
       "      <th></th>\n",
       "      <th>count</th>\n",
       "      <th>mean</th>\n",
       "      <th>std</th>\n",
       "      <th>min</th>\n",
       "      <th>25%</th>\n",
       "      <th>50%</th>\n",
       "      <th>75%</th>\n",
       "      <th>max</th>\n",
       "    </tr>\n",
       "    <tr>\n",
       "      <th>f</th>\n",
       "      <th></th>\n",
       "      <th></th>\n",
       "      <th></th>\n",
       "      <th></th>\n",
       "      <th></th>\n",
       "      <th></th>\n",
       "      <th></th>\n",
       "      <th></th>\n",
       "    </tr>\n",
       "  </thead>\n",
       "  <tbody>\n",
       "    <tr>\n",
       "      <th>1</th>\n",
       "      <td>868.0</td>\n",
       "      <td>1.000000</td>\n",
       "      <td>0.000000</td>\n",
       "      <td>1.0</td>\n",
       "      <td>1.0</td>\n",
       "      <td>1.0</td>\n",
       "      <td>1.0</td>\n",
       "      <td>1.0</td>\n",
       "    </tr>\n",
       "    <tr>\n",
       "      <th>2</th>\n",
       "      <td>867.0</td>\n",
       "      <td>1.277970</td>\n",
       "      <td>0.448257</td>\n",
       "      <td>1.0</td>\n",
       "      <td>1.0</td>\n",
       "      <td>1.0</td>\n",
       "      <td>2.0</td>\n",
       "      <td>2.0</td>\n",
       "    </tr>\n",
       "    <tr>\n",
       "      <th>3</th>\n",
       "      <td>868.0</td>\n",
       "      <td>2.316820</td>\n",
       "      <td>0.465505</td>\n",
       "      <td>2.0</td>\n",
       "      <td>2.0</td>\n",
       "      <td>2.0</td>\n",
       "      <td>3.0</td>\n",
       "      <td>3.0</td>\n",
       "    </tr>\n",
       "    <tr>\n",
       "      <th>4</th>\n",
       "      <td>867.0</td>\n",
       "      <td>4.020761</td>\n",
       "      <td>0.753457</td>\n",
       "      <td>3.0</td>\n",
       "      <td>3.0</td>\n",
       "      <td>4.0</td>\n",
       "      <td>5.0</td>\n",
       "      <td>6.0</td>\n",
       "    </tr>\n",
       "    <tr>\n",
       "      <th>5</th>\n",
       "      <td>868.0</td>\n",
       "      <td>12.743088</td>\n",
       "      <td>14.165919</td>\n",
       "      <td>6.0</td>\n",
       "      <td>7.0</td>\n",
       "      <td>9.0</td>\n",
       "      <td>13.0</td>\n",
       "      <td>210.0</td>\n",
       "    </tr>\n",
       "  </tbody>\n",
       "</table>\n",
       "</div>"
      ],
      "text/plain": [
       "   count       mean        std  min  25%  50%   75%    max\n",
       "f                                                         \n",
       "1  868.0   1.000000   0.000000  1.0  1.0  1.0   1.0    1.0\n",
       "2  867.0   1.277970   0.448257  1.0  1.0  1.0   2.0    2.0\n",
       "3  868.0   2.316820   0.465505  2.0  2.0  2.0   3.0    3.0\n",
       "4  867.0   4.020761   0.753457  3.0  3.0  4.0   5.0    6.0\n",
       "5  868.0  12.743088  14.165919  6.0  7.0  9.0  13.0  210.0"
      ]
     },
     "execution_count": 45,
     "metadata": {},
     "output_type": "execute_result"
    }
   ],
   "source": [
    "rfm_df.groupby('f', sort='True')['Frequency'].describe()"
   ]
  },
  {
   "cell_type": "code",
   "execution_count": 46,
   "metadata": {},
   "outputs": [
    {
     "data": {
      "text/plain": [
       "<seaborn.axisgrid.FacetGrid at 0x7f6fbb325b90>"
      ]
     },
     "execution_count": 46,
     "metadata": {},
     "output_type": "execute_result"
    },
    {
     "data": {
      "image/png": "[encoded data removed]",
      "text/plain": [
       "<Figure size 402.375x360 with 1 Axes>"
      ]
     },
     "metadata": {
      "needs_background": "light"
     },
     "output_type": "display_data"
    }
   ],
   "source": [
    "sns.lmplot(data=rfm_df, x='Frequency', y='Recency', hue='f')"
   ]
  },
  {
   "cell_type": "code",
   "execution_count": 47,
   "metadata": {},
   "outputs": [
    {
     "data": {
      "text/html": [
       "<div>\n",
       "<style scoped>\n",
       "    .dataframe tbody tr th:only-of-type {\n",
       "        vertical-align: middle;\n",
       "    }\n",
       "\n",
       "    .dataframe tbody tr th {\n",
       "        vertical-align: top;\n",
       "    }\n",
       "\n",
       "    .dataframe thead th {\n",
       "        text-align: right;\n",
       "    }\n",
       "</style>\n",
       "<table border=\"1\" class=\"dataframe\">\n",
       "  <thead>\n",
       "    <tr style=\"text-align: right;\">\n",
       "      <th></th>\n",
       "      <th>count</th>\n",
       "      <th>mean</th>\n",
       "      <th>std</th>\n",
       "      <th>min</th>\n",
       "      <th>25%</th>\n",
       "      <th>50%</th>\n",
       "      <th>75%</th>\n",
       "      <th>max</th>\n",
       "    </tr>\n",
       "    <tr>\n",
       "      <th>m</th>\n",
       "      <th></th>\n",
       "      <th></th>\n",
       "      <th></th>\n",
       "      <th></th>\n",
       "      <th></th>\n",
       "      <th></th>\n",
       "      <th></th>\n",
       "      <th></th>\n",
       "    </tr>\n",
       "  </thead>\n",
       "  <tbody>\n",
       "    <tr>\n",
       "      <th>1</th>\n",
       "      <td>868.0</td>\n",
       "      <td>152.008594</td>\n",
       "      <td>56.650082</td>\n",
       "      <td>0.00</td>\n",
       "      <td>111.300</td>\n",
       "      <td>155.025</td>\n",
       "      <td>199.2325</td>\n",
       "      <td>248.10</td>\n",
       "    </tr>\n",
       "    <tr>\n",
       "      <th>2</th>\n",
       "      <td>867.0</td>\n",
       "      <td>357.009321</td>\n",
       "      <td>64.499740</td>\n",
       "      <td>248.61</td>\n",
       "      <td>306.290</td>\n",
       "      <td>349.270</td>\n",
       "      <td>408.8500</td>\n",
       "      <td>486.72</td>\n",
       "    </tr>\n",
       "    <tr>\n",
       "      <th>3</th>\n",
       "      <td>868.0</td>\n",
       "      <td>683.310244</td>\n",
       "      <td>124.195764</td>\n",
       "      <td>486.82</td>\n",
       "      <td>582.475</td>\n",
       "      <td>668.040</td>\n",
       "      <td>780.4700</td>\n",
       "      <td>932.85</td>\n",
       "    </tr>\n",
       "    <tr>\n",
       "      <th>4</th>\n",
       "      <td>867.0</td>\n",
       "      <td>1397.023945</td>\n",
       "      <td>317.556946</td>\n",
       "      <td>932.97</td>\n",
       "      <td>1109.935</td>\n",
       "      <td>1345.530</td>\n",
       "      <td>1655.7950</td>\n",
       "      <td>2050.08</td>\n",
       "    </tr>\n",
       "    <tr>\n",
       "      <th>5</th>\n",
       "      <td>868.0</td>\n",
       "      <td>7368.377997</td>\n",
       "      <td>18116.323010</td>\n",
       "      <td>2053.02</td>\n",
       "      <td>2632.475</td>\n",
       "      <td>3638.860</td>\n",
       "      <td>5743.8175</td>\n",
       "      <td>280206.02</td>\n",
       "    </tr>\n",
       "  </tbody>\n",
       "</table>\n",
       "</div>"
      ],
      "text/plain": [
       "   count         mean           std      min       25%       50%        75%  \\\n",
       "m                                                                             \n",
       "1  868.0   152.008594     56.650082     0.00   111.300   155.025   199.2325   \n",
       "2  867.0   357.009321     64.499740   248.61   306.290   349.270   408.8500   \n",
       "3  868.0   683.310244    124.195764   486.82   582.475   668.040   780.4700   \n",
       "4  867.0  1397.023945    317.556946   932.97  1109.935  1345.530  1655.7950   \n",
       "5  868.0  7368.377997  18116.323010  2053.02  2632.475  3638.860  5743.8175   \n",
       "\n",
       "         max  \n",
       "m             \n",
       "1     248.10  \n",
       "2     486.72  \n",
       "3     932.85  \n",
       "4    2050.08  \n",
       "5  280206.02  "
      ]
     },
     "execution_count": 47,
     "metadata": {},
     "output_type": "execute_result"
    }
   ],
   "source": [
    "rfm_df.groupby('m')['Monetary'].describe()"
   ]
  },
  {
   "cell_type": "code",
   "execution_count": 48,
   "metadata": {},
   "outputs": [
    {
     "data": {
      "text/plain": [
       "<seaborn.axisgrid.FacetGrid at 0x7f6fbbd4ee50>"
      ]
     },
     "execution_count": 48,
     "metadata": {},
     "output_type": "execute_result"
    },
    {
     "data": {
      "image/png": "[encoded data removed]",
      "text/plain": [
       "<Figure size 402.375x360 with 1 Axes>"
      ]
     },
     "metadata": {
      "needs_background": "light"
     },
     "output_type": "display_data"
    }
   ],
   "source": [
    "sns.lmplot(data=rfm_df, x='Frequency', y='Monetary', hue='m')"
   ]
  },
  {
   "cell_type": "markdown",
   "metadata": {},
   "source": [
    "# 3.b.ii > Combine three ratings to get a RFM segment"
   ]
  },
  {
   "cell_type": "code",
   "execution_count": 49,
   "metadata": {},
   "outputs": [],
   "source": [
    "rfm_df['rfm_segment'] = rfm_df['r'].astype(str)+rfm_df['f'].astype(str)+rfm_df['m'].astype(str)"
   ]
  },
  {
   "cell_type": "markdown",
   "metadata": {},
   "source": [
    "# 3.b.iii> Get the RFM score by adding up the three ratings"
   ]
  },
  {
   "cell_type": "code",
   "execution_count": 50,
   "metadata": {},
   "outputs": [],
   "source": [
    "rfm_df['rfm_score'] = rfm_df['r'].astype(int)+rfm_df['f'].astype(int)+rfm_df['m'].astype(int)"
   ]
  },
  {
   "cell_type": "code",
   "execution_count": 51,
   "metadata": {},
   "outputs": [
    {
     "data": {
      "text/html": [
       "<div>\n",
       "<style scoped>\n",
       "    .dataframe tbody tr th:only-of-type {\n",
       "        vertical-align: middle;\n",
       "    }\n",
       "\n",
       "    .dataframe tbody tr th {\n",
       "        vertical-align: top;\n",
       "    }\n",
       "\n",
       "    .dataframe thead th {\n",
       "        text-align: right;\n",
       "    }\n",
       "</style>\n",
       "<table border=\"1\" class=\"dataframe\">\n",
       "  <thead>\n",
       "    <tr style=\"text-align: right;\">\n",
       "      <th></th>\n",
       "      <th>Recency</th>\n",
       "      <th>Frequency</th>\n",
       "      <th>Monetary</th>\n",
       "      <th>r</th>\n",
       "      <th>f</th>\n",
       "      <th>m</th>\n",
       "      <th>rfm_segment</th>\n",
       "      <th>rfm_score</th>\n",
       "    </tr>\n",
       "    <tr>\n",
       "      <th>CustomerID</th>\n",
       "      <th></th>\n",
       "      <th></th>\n",
       "      <th></th>\n",
       "      <th></th>\n",
       "      <th></th>\n",
       "      <th></th>\n",
       "      <th></th>\n",
       "      <th></th>\n",
       "    </tr>\n",
       "  </thead>\n",
       "  <tbody>\n",
       "    <tr>\n",
       "      <th>12347</th>\n",
       "      <td>1</td>\n",
       "      <td>7</td>\n",
       "      <td>4310.00</td>\n",
       "      <td>5</td>\n",
       "      <td>5</td>\n",
       "      <td>5</td>\n",
       "      <td>555</td>\n",
       "      <td>15</td>\n",
       "    </tr>\n",
       "    <tr>\n",
       "      <th>12348</th>\n",
       "      <td>74</td>\n",
       "      <td>4</td>\n",
       "      <td>1797.24</td>\n",
       "      <td>2</td>\n",
       "      <td>4</td>\n",
       "      <td>4</td>\n",
       "      <td>244</td>\n",
       "      <td>10</td>\n",
       "    </tr>\n",
       "    <tr>\n",
       "      <th>12349</th>\n",
       "      <td>18</td>\n",
       "      <td>1</td>\n",
       "      <td>1757.55</td>\n",
       "      <td>4</td>\n",
       "      <td>1</td>\n",
       "      <td>4</td>\n",
       "      <td>414</td>\n",
       "      <td>9</td>\n",
       "    </tr>\n",
       "    <tr>\n",
       "      <th>12350</th>\n",
       "      <td>309</td>\n",
       "      <td>1</td>\n",
       "      <td>334.40</td>\n",
       "      <td>1</td>\n",
       "      <td>1</td>\n",
       "      <td>2</td>\n",
       "      <td>112</td>\n",
       "      <td>4</td>\n",
       "    </tr>\n",
       "    <tr>\n",
       "      <th>12352</th>\n",
       "      <td>35</td>\n",
       "      <td>8</td>\n",
       "      <td>2506.04</td>\n",
       "      <td>3</td>\n",
       "      <td>5</td>\n",
       "      <td>5</td>\n",
       "      <td>355</td>\n",
       "      <td>13</td>\n",
       "    </tr>\n",
       "  </tbody>\n",
       "</table>\n",
       "</div>"
      ],
      "text/plain": [
       "            Recency  Frequency  Monetary  r  f  m rfm_segment  rfm_score\n",
       "CustomerID                                                              \n",
       "12347             1          7   4310.00  5  5  5         555         15\n",
       "12348            74          4   1797.24  2  4  4         244         10\n",
       "12349            18          1   1757.55  4  1  4         414          9\n",
       "12350           309          1    334.40  1  1  2         112          4\n",
       "12352            35          8   2506.04  3  5  5         355         13"
      ]
     },
     "execution_count": 51,
     "metadata": {},
     "output_type": "execute_result"
    }
   ],
   "source": [
    "rfm_df.head()"
   ]
  },
  {
   "cell_type": "code",
   "execution_count": 52,
   "metadata": {},
   "outputs": [
    {
     "data": {
      "text/html": [
       "<div>\n",
       "<style scoped>\n",
       "    .dataframe tbody tr th:only-of-type {\n",
       "        vertical-align: middle;\n",
       "    }\n",
       "\n",
       "    .dataframe tbody tr th {\n",
       "        vertical-align: top;\n",
       "    }\n",
       "\n",
       "    .dataframe thead tr th {\n",
       "        text-align: left;\n",
       "    }\n",
       "\n",
       "    .dataframe thead tr:last-of-type th {\n",
       "        text-align: right;\n",
       "    }\n",
       "</style>\n",
       "<table border=\"1\" class=\"dataframe\">\n",
       "  <thead>\n",
       "    <tr>\n",
       "      <th></th>\n",
       "      <th colspan=\"8\" halign=\"left\">Recency</th>\n",
       "      <th colspan=\"5\" halign=\"left\">Frequency</th>\n",
       "      <th colspan=\"8\" halign=\"left\">Monetary</th>\n",
       "    </tr>\n",
       "    <tr>\n",
       "      <th></th>\n",
       "      <th>count</th>\n",
       "      <th>mean</th>\n",
       "      <th>std</th>\n",
       "      <th>min</th>\n",
       "      <th>25%</th>\n",
       "      <th>50%</th>\n",
       "      <th>75%</th>\n",
       "      <th>max</th>\n",
       "      <th>count</th>\n",
       "      <th>mean</th>\n",
       "      <th>...</th>\n",
       "      <th>75%</th>\n",
       "      <th>max</th>\n",
       "      <th>count</th>\n",
       "      <th>mean</th>\n",
       "      <th>std</th>\n",
       "      <th>min</th>\n",
       "      <th>25%</th>\n",
       "      <th>50%</th>\n",
       "      <th>75%</th>\n",
       "      <th>max</th>\n",
       "    </tr>\n",
       "    <tr>\n",
       "      <th>rfm_score</th>\n",
       "      <th></th>\n",
       "      <th></th>\n",
       "      <th></th>\n",
       "      <th></th>\n",
       "      <th></th>\n",
       "      <th></th>\n",
       "      <th></th>\n",
       "      <th></th>\n",
       "      <th></th>\n",
       "      <th></th>\n",
       "      <th></th>\n",
       "      <th></th>\n",
       "      <th></th>\n",
       "      <th></th>\n",
       "      <th></th>\n",
       "      <th></th>\n",
       "      <th></th>\n",
       "      <th></th>\n",
       "      <th></th>\n",
       "      <th></th>\n",
       "      <th></th>\n",
       "    </tr>\n",
       "  </thead>\n",
       "  <tbody>\n",
       "    <tr>\n",
       "      <th>3</th>\n",
       "      <td>183.0</td>\n",
       "      <td>285.459016</td>\n",
       "      <td>55.118625</td>\n",
       "      <td>179.0</td>\n",
       "      <td>245.50</td>\n",
       "      <td>282.0</td>\n",
       "      <td>327.50</td>\n",
       "      <td>373.0</td>\n",
       "      <td>183.0</td>\n",
       "      <td>1.000000</td>\n",
       "      <td>...</td>\n",
       "      <td>1.0</td>\n",
       "      <td>1.0</td>\n",
       "      <td>183.0</td>\n",
       "      <td>144.311148</td>\n",
       "      <td>53.007358</td>\n",
       "      <td>30.60</td>\n",
       "      <td>106.8250</td>\n",
       "      <td>141.410</td>\n",
       "      <td>184.2450</td>\n",
       "      <td>239.49</td>\n",
       "    </tr>\n",
       "    <tr>\n",
       "      <th>4</th>\n",
       "      <td>361.0</td>\n",
       "      <td>236.977839</td>\n",
       "      <td>80.573600</td>\n",
       "      <td>72.0</td>\n",
       "      <td>184.00</td>\n",
       "      <td>242.0</td>\n",
       "      <td>294.00</td>\n",
       "      <td>373.0</td>\n",
       "      <td>361.0</td>\n",
       "      <td>1.013850</td>\n",
       "      <td>...</td>\n",
       "      <td>1.0</td>\n",
       "      <td>2.0</td>\n",
       "      <td>361.0</td>\n",
       "      <td>214.610831</td>\n",
       "      <td>114.004276</td>\n",
       "      <td>2.90</td>\n",
       "      <td>123.2400</td>\n",
       "      <td>193.390</td>\n",
       "      <td>307.9000</td>\n",
       "      <td>486.10</td>\n",
       "    </tr>\n",
       "    <tr>\n",
       "      <th>5</th>\n",
       "      <td>336.0</td>\n",
       "      <td>176.645833</td>\n",
       "      <td>103.941873</td>\n",
       "      <td>33.0</td>\n",
       "      <td>80.00</td>\n",
       "      <td>161.5</td>\n",
       "      <td>262.25</td>\n",
       "      <td>373.0</td>\n",
       "      <td>336.0</td>\n",
       "      <td>1.104167</td>\n",
       "      <td>...</td>\n",
       "      <td>1.0</td>\n",
       "      <td>2.0</td>\n",
       "      <td>336.0</td>\n",
       "      <td>288.715119</td>\n",
       "      <td>159.406446</td>\n",
       "      <td>6.20</td>\n",
       "      <td>166.9875</td>\n",
       "      <td>273.465</td>\n",
       "      <td>365.7375</td>\n",
       "      <td>922.10</td>\n",
       "    </tr>\n",
       "    <tr>\n",
       "      <th>6</th>\n",
       "      <td>426.0</td>\n",
       "      <td>123.143192</td>\n",
       "      <td>92.868589</td>\n",
       "      <td>14.0</td>\n",
       "      <td>49.00</td>\n",
       "      <td>83.0</td>\n",
       "      <td>187.00</td>\n",
       "      <td>373.0</td>\n",
       "      <td>426.0</td>\n",
       "      <td>1.321596</td>\n",
       "      <td>...</td>\n",
       "      <td>2.0</td>\n",
       "      <td>3.0</td>\n",
       "      <td>426.0</td>\n",
       "      <td>382.979415</td>\n",
       "      <td>269.237107</td>\n",
       "      <td>20.80</td>\n",
       "      <td>198.0175</td>\n",
       "      <td>313.300</td>\n",
       "      <td>475.5350</td>\n",
       "      <td>1784.71</td>\n",
       "    </tr>\n",
       "    <tr>\n",
       "      <th>7</th>\n",
       "      <td>377.0</td>\n",
       "      <td>96.602122</td>\n",
       "      <td>80.547797</td>\n",
       "      <td>0.0</td>\n",
       "      <td>36.00</td>\n",
       "      <td>70.0</td>\n",
       "      <td>146.00</td>\n",
       "      <td>371.0</td>\n",
       "      <td>377.0</td>\n",
       "      <td>1.588859</td>\n",
       "      <td>...</td>\n",
       "      <td>2.0</td>\n",
       "      <td>5.0</td>\n",
       "      <td>377.0</td>\n",
       "      <td>501.546897</td>\n",
       "      <td>403.461266</td>\n",
       "      <td>0.00</td>\n",
       "      <td>264.6200</td>\n",
       "      <td>400.100</td>\n",
       "      <td>615.1400</td>\n",
       "      <td>3096.00</td>\n",
       "    </tr>\n",
       "    <tr>\n",
       "      <th>8</th>\n",
       "      <td>376.0</td>\n",
       "      <td>83.896277</td>\n",
       "      <td>71.587652</td>\n",
       "      <td>0.0</td>\n",
       "      <td>28.00</td>\n",
       "      <td>63.0</td>\n",
       "      <td>122.00</td>\n",
       "      <td>313.0</td>\n",
       "      <td>376.0</td>\n",
       "      <td>1.992021</td>\n",
       "      <td>...</td>\n",
       "      <td>2.0</td>\n",
       "      <td>6.0</td>\n",
       "      <td>376.0</td>\n",
       "      <td>664.415455</td>\n",
       "      <td>712.262195</td>\n",
       "      <td>36.56</td>\n",
       "      <td>347.6050</td>\n",
       "      <td>535.925</td>\n",
       "      <td>731.0200</td>\n",
       "      <td>9864.26</td>\n",
       "    </tr>\n",
       "    <tr>\n",
       "      <th>9</th>\n",
       "      <td>336.0</td>\n",
       "      <td>70.964286</td>\n",
       "      <td>59.841372</td>\n",
       "      <td>0.0</td>\n",
       "      <td>24.75</td>\n",
       "      <td>57.0</td>\n",
       "      <td>96.50</td>\n",
       "      <td>365.0</td>\n",
       "      <td>336.0</td>\n",
       "      <td>2.500000</td>\n",
       "      <td>...</td>\n",
       "      <td>3.0</td>\n",
       "      <td>7.0</td>\n",
       "      <td>336.0</td>\n",
       "      <td>1077.753068</td>\n",
       "      <td>3268.704744</td>\n",
       "      <td>52.20</td>\n",
       "      <td>467.9825</td>\n",
       "      <td>678.850</td>\n",
       "      <td>1021.5050</td>\n",
       "      <td>44534.30</td>\n",
       "    </tr>\n",
       "    <tr>\n",
       "      <th>10</th>\n",
       "      <td>342.0</td>\n",
       "      <td>54.119883</td>\n",
       "      <td>47.155949</td>\n",
       "      <td>0.0</td>\n",
       "      <td>21.00</td>\n",
       "      <td>39.0</td>\n",
       "      <td>77.00</td>\n",
       "      <td>332.0</td>\n",
       "      <td>342.0</td>\n",
       "      <td>3.038012</td>\n",
       "      <td>...</td>\n",
       "      <td>4.0</td>\n",
       "      <td>9.0</td>\n",
       "      <td>342.0</td>\n",
       "      <td>1042.642427</td>\n",
       "      <td>889.349289</td>\n",
       "      <td>204.00</td>\n",
       "      <td>587.7875</td>\n",
       "      <td>823.015</td>\n",
       "      <td>1265.6075</td>\n",
       "      <td>11072.67</td>\n",
       "    </tr>\n",
       "    <tr>\n",
       "      <th>11</th>\n",
       "      <td>342.0</td>\n",
       "      <td>41.190058</td>\n",
       "      <td>42.624757</td>\n",
       "      <td>0.0</td>\n",
       "      <td>16.00</td>\n",
       "      <td>29.0</td>\n",
       "      <td>56.00</td>\n",
       "      <td>371.0</td>\n",
       "      <td>342.0</td>\n",
       "      <td>3.862573</td>\n",
       "      <td>...</td>\n",
       "      <td>4.0</td>\n",
       "      <td>34.0</td>\n",
       "      <td>342.0</td>\n",
       "      <td>1359.189944</td>\n",
       "      <td>1070.228965</td>\n",
       "      <td>201.12</td>\n",
       "      <td>729.4225</td>\n",
       "      <td>1067.930</td>\n",
       "      <td>1735.1675</td>\n",
       "      <td>12601.83</td>\n",
       "    </tr>\n",
       "    <tr>\n",
       "      <th>12</th>\n",
       "      <td>324.0</td>\n",
       "      <td>31.509259</td>\n",
       "      <td>30.781109</td>\n",
       "      <td>0.0</td>\n",
       "      <td>11.00</td>\n",
       "      <td>21.5</td>\n",
       "      <td>42.00</td>\n",
       "      <td>172.0</td>\n",
       "      <td>324.0</td>\n",
       "      <td>4.706790</td>\n",
       "      <td>...</td>\n",
       "      <td>5.0</td>\n",
       "      <td>17.0</td>\n",
       "      <td>324.0</td>\n",
       "      <td>1780.224784</td>\n",
       "      <td>1296.062410</td>\n",
       "      <td>400.86</td>\n",
       "      <td>981.2100</td>\n",
       "      <td>1381.320</td>\n",
       "      <td>2012.0300</td>\n",
       "      <td>10254.18</td>\n",
       "    </tr>\n",
       "    <tr>\n",
       "      <th>13</th>\n",
       "      <td>285.0</td>\n",
       "      <td>23.522807</td>\n",
       "      <td>18.249745</td>\n",
       "      <td>0.0</td>\n",
       "      <td>8.00</td>\n",
       "      <td>21.0</td>\n",
       "      <td>37.00</td>\n",
       "      <td>71.0</td>\n",
       "      <td>285.0</td>\n",
       "      <td>6.526316</td>\n",
       "      <td>...</td>\n",
       "      <td>7.0</td>\n",
       "      <td>63.0</td>\n",
       "      <td>285.0</td>\n",
       "      <td>2909.179439</td>\n",
       "      <td>5197.082276</td>\n",
       "      <td>621.68</td>\n",
       "      <td>1387.7900</td>\n",
       "      <td>1906.090</td>\n",
       "      <td>2938.9100</td>\n",
       "      <td>80850.84</td>\n",
       "    </tr>\n",
       "    <tr>\n",
       "      <th>14</th>\n",
       "      <td>300.0</td>\n",
       "      <td>14.926667</td>\n",
       "      <td>9.310042</td>\n",
       "      <td>0.0</td>\n",
       "      <td>7.00</td>\n",
       "      <td>15.0</td>\n",
       "      <td>22.00</td>\n",
       "      <td>32.0</td>\n",
       "      <td>300.0</td>\n",
       "      <td>9.166667</td>\n",
       "      <td>...</td>\n",
       "      <td>11.0</td>\n",
       "      <td>51.0</td>\n",
       "      <td>300.0</td>\n",
       "      <td>4462.715000</td>\n",
       "      <td>8200.372780</td>\n",
       "      <td>954.42</td>\n",
       "      <td>1934.3650</td>\n",
       "      <td>2738.145</td>\n",
       "      <td>4605.3525</td>\n",
       "      <td>124914.53</td>\n",
       "    </tr>\n",
       "    <tr>\n",
       "      <th>15</th>\n",
       "      <td>350.0</td>\n",
       "      <td>4.522857</td>\n",
       "      <td>3.668700</td>\n",
       "      <td>0.0</td>\n",
       "      <td>1.00</td>\n",
       "      <td>3.0</td>\n",
       "      <td>8.00</td>\n",
       "      <td>13.0</td>\n",
       "      <td>350.0</td>\n",
       "      <td>18.194286</td>\n",
       "      <td>...</td>\n",
       "      <td>20.0</td>\n",
       "      <td>210.0</td>\n",
       "      <td>350.0</td>\n",
       "      <td>11172.389057</td>\n",
       "      <td>26565.013552</td>\n",
       "      <td>2069.77</td>\n",
       "      <td>3038.0050</td>\n",
       "      <td>4536.815</td>\n",
       "      <td>8345.0225</td>\n",
       "      <td>280206.02</td>\n",
       "    </tr>\n",
       "  </tbody>\n",
       "</table>\n",
       "<p>13 rows × 24 columns</p>\n",
       "</div>"
      ],
      "text/plain": [
       "          Recency                                                        \\\n",
       "            count        mean         std    min     25%    50%     75%   \n",
       "rfm_score                                                                 \n",
       "3           183.0  285.459016   55.118625  179.0  245.50  282.0  327.50   \n",
       "4           361.0  236.977839   80.573600   72.0  184.00  242.0  294.00   \n",
       "5           336.0  176.645833  103.941873   33.0   80.00  161.5  262.25   \n",
       "6           426.0  123.143192   92.868589   14.0   49.00   83.0  187.00   \n",
       "7           377.0   96.602122   80.547797    0.0   36.00   70.0  146.00   \n",
       "8           376.0   83.896277   71.587652    0.0   28.00   63.0  122.00   \n",
       "9           336.0   70.964286   59.841372    0.0   24.75   57.0   96.50   \n",
       "10          342.0   54.119883   47.155949    0.0   21.00   39.0   77.00   \n",
       "11          342.0   41.190058   42.624757    0.0   16.00   29.0   56.00   \n",
       "12          324.0   31.509259   30.781109    0.0   11.00   21.5   42.00   \n",
       "13          285.0   23.522807   18.249745    0.0    8.00   21.0   37.00   \n",
       "14          300.0   14.926667    9.310042    0.0    7.00   15.0   22.00   \n",
       "15          350.0    4.522857    3.668700    0.0    1.00    3.0    8.00   \n",
       "\n",
       "                 Frequency             ...              Monetary  \\\n",
       "             max     count       mean  ...   75%    max    count   \n",
       "rfm_score                              ...                         \n",
       "3          373.0     183.0   1.000000  ...   1.0    1.0    183.0   \n",
       "4          373.0     361.0   1.013850  ...   1.0    2.0    361.0   \n",
       "5          373.0     336.0   1.104167  ...   1.0    2.0    336.0   \n",
       "6          373.0     426.0   1.321596  ...   2.0    3.0    426.0   \n",
       "7          371.0     377.0   1.588859  ...   2.0    5.0    377.0   \n",
       "8          313.0     376.0   1.992021  ...   2.0    6.0    376.0   \n",
       "9          365.0     336.0   2.500000  ...   3.0    7.0    336.0   \n",
       "10         332.0     342.0   3.038012  ...   4.0    9.0    342.0   \n",
       "11         371.0     342.0   3.862573  ...   4.0   34.0    342.0   \n",
       "12         172.0     324.0   4.706790  ...   5.0   17.0    324.0   \n",
       "13          71.0     285.0   6.526316  ...   7.0   63.0    285.0   \n",
       "14          32.0     300.0   9.166667  ...  11.0   51.0    300.0   \n",
       "15          13.0     350.0  18.194286  ...  20.0  210.0    350.0   \n",
       "\n",
       "                                                                     \\\n",
       "                   mean           std      min        25%       50%   \n",
       "rfm_score                                                             \n",
       "3            144.311148     53.007358    30.60   106.8250   141.410   \n",
       "4            214.610831    114.004276     2.90   123.2400   193.390   \n",
       "5            288.715119    159.406446     6.20   166.9875   273.465   \n",
       "6            382.979415    269.237107    20.80   198.0175   313.300   \n",
       "7            501.546897    403.461266     0.00   264.6200   400.100   \n",
       "8            664.415455    712.262195    36.56   347.6050   535.925   \n",
       "9           1077.753068   3268.704744    52.20   467.9825   678.850   \n",
       "10          1042.642427    889.349289   204.00   587.7875   823.015   \n",
       "11          1359.189944   1070.228965   201.12   729.4225  1067.930   \n",
       "12          1780.224784   1296.062410   400.86   981.2100  1381.320   \n",
       "13          2909.179439   5197.082276   621.68  1387.7900  1906.090   \n",
       "14          4462.715000   8200.372780   954.42  1934.3650  2738.145   \n",
       "15         11172.389057  26565.013552  2069.77  3038.0050  4536.815   \n",
       "\n",
       "                                 \n",
       "                 75%        max  \n",
       "rfm_score                        \n",
       "3           184.2450     239.49  \n",
       "4           307.9000     486.10  \n",
       "5           365.7375     922.10  \n",
       "6           475.5350    1784.71  \n",
       "7           615.1400    3096.00  \n",
       "8           731.0200    9864.26  \n",
       "9          1021.5050   44534.30  \n",
       "10         1265.6075   11072.67  \n",
       "11         1735.1675   12601.83  \n",
       "12         2012.0300   10254.18  \n",
       "13         2938.9100   80850.84  \n",
       "14         4605.3525  124914.53  \n",
       "15         8345.0225  280206.02  \n",
       "\n",
       "[13 rows x 24 columns]"
      ]
     },
     "execution_count": 52,
     "metadata": {},
     "output_type": "execute_result"
    }
   ],
   "source": [
    "rfm_df.groupby('rfm_score').describe()\n",
    "\n",
    "# We find the most loyal customers - the hogher the RFM score the more valued the customer is\n",
    "# This can be used by marketers to advertise and reward their customers"
   ]
  },
  {
   "cell_type": "code",
   "execution_count": 53,
   "metadata": {},
   "outputs": [
    {
     "data": {
      "text/plain": [
       "<AxesSubplot:title={'center':'RFM Score Plot'}, xlabel='RFM Score', ylabel='Count'>"
      ]
     },
     "execution_count": 53,
     "metadata": {},
     "output_type": "execute_result"
    },
    {
     "data": {
      "image/png": "[encoded data removed]",
      "text/plain": [
       "<Figure size 1080x720 with 1 Axes>"
      ]
     },
     "metadata": {
      "needs_background": "light"
     },
     "output_type": "display_data"
    }
   ],
   "source": [
    "rfm_group = rfm_df.groupby(['rfm_score']).size()\n",
    "rfm_group.plot.bar(title = 'RFM Score Plot',  xlabel = 'RFM Score', ylabel='Count', color='purple')\n"
   ]
  },
  {
   "cell_type": "markdown",
   "metadata": {},
   "source": [
    "# 4 > Create clusters using k means clustering algorithm"
   ]
  },
  {
   "cell_type": "code",
   "execution_count": 54,
   "metadata": {},
   "outputs": [],
   "source": [
    "from sklearn.cluster import KMeans\n",
    "from sklearn.preprocessing import StandardScaler"
   ]
  },
  {
   "cell_type": "code",
   "execution_count": 55,
   "metadata": {},
   "outputs": [
    {
     "data": {
      "text/html": [
       "<div>\n",
       "<style scoped>\n",
       "    .dataframe tbody tr th:only-of-type {\n",
       "        vertical-align: middle;\n",
       "    }\n",
       "\n",
       "    .dataframe tbody tr th {\n",
       "        vertical-align: top;\n",
       "    }\n",
       "\n",
       "    .dataframe thead th {\n",
       "        text-align: right;\n",
       "    }\n",
       "</style>\n",
       "<table border=\"1\" class=\"dataframe\">\n",
       "  <thead>\n",
       "    <tr style=\"text-align: right;\">\n",
       "      <th></th>\n",
       "      <th>Recency</th>\n",
       "      <th>Frequency</th>\n",
       "      <th>Monetary</th>\n",
       "    </tr>\n",
       "    <tr>\n",
       "      <th>CustomerID</th>\n",
       "      <th></th>\n",
       "      <th></th>\n",
       "      <th></th>\n",
       "    </tr>\n",
       "  </thead>\n",
       "  <tbody>\n",
       "    <tr>\n",
       "      <th>12347</th>\n",
       "      <td>1</td>\n",
       "      <td>7</td>\n",
       "      <td>4310.00</td>\n",
       "    </tr>\n",
       "    <tr>\n",
       "      <th>12348</th>\n",
       "      <td>74</td>\n",
       "      <td>4</td>\n",
       "      <td>1797.24</td>\n",
       "    </tr>\n",
       "    <tr>\n",
       "      <th>12349</th>\n",
       "      <td>18</td>\n",
       "      <td>1</td>\n",
       "      <td>1757.55</td>\n",
       "    </tr>\n",
       "    <tr>\n",
       "      <th>12350</th>\n",
       "      <td>309</td>\n",
       "      <td>1</td>\n",
       "      <td>334.40</td>\n",
       "    </tr>\n",
       "    <tr>\n",
       "      <th>12352</th>\n",
       "      <td>35</td>\n",
       "      <td>8</td>\n",
       "      <td>2506.04</td>\n",
       "    </tr>\n",
       "  </tbody>\n",
       "</table>\n",
       "</div>"
      ],
      "text/plain": [
       "            Recency  Frequency  Monetary\n",
       "CustomerID                              \n",
       "12347             1          7   4310.00\n",
       "12348            74          4   1797.24\n",
       "12349            18          1   1757.55\n",
       "12350           309          1    334.40\n",
       "12352            35          8   2506.04"
      ]
     },
     "execution_count": 55,
     "metadata": {},
     "output_type": "execute_result"
    }
   ],
   "source": [
    "# Use only appropriate columns\n",
    "df_transformed = rfm_df.iloc[:,0:3]\n",
    "df_transformed.head()"
   ]
  },
  {
   "cell_type": "markdown",
   "metadata": {},
   "source": [
    "# 4.a.i > If the data is Un Symmetrically distributed, manage the skewness with appropriate transformation"
   ]
  },
  {
   "cell_type": "code",
   "execution_count": 56,
   "metadata": {},
   "outputs": [],
   "source": [
    "def handle_skew(df):\n",
    "    # log transform is one of the possible ways to standardize data\n",
    "    for feature in df.columns:\n",
    "        # Transform Skewed Data\n",
    "        df[feature] = np.log(df[feature]+1)\n",
    "    return df"
   ]
  },
  {
   "cell_type": "markdown",
   "metadata": {},
   "source": [
    "# 4.a.ii> Standardize / scale the data"
   ]
  },
  {
   "cell_type": "code",
   "execution_count": 57,
   "metadata": {},
   "outputs": [],
   "source": [
    "# The process of transforming numerical features to use the same scale \n",
    "# is known as feature scaling\n",
    "def handle_scale(df):\n",
    "    scaler = StandardScaler()\n",
    "    for feature in df.columns:\n",
    "        df[feature] = scaler.fit_transform(df[[feature]])\n",
    "    return df"
   ]
  },
  {
   "cell_type": "code",
   "execution_count": 58,
   "metadata": {},
   "outputs": [
    {
     "data": {
      "text/html": [
       "<div>\n",
       "<style scoped>\n",
       "    .dataframe tbody tr th:only-of-type {\n",
       "        vertical-align: middle;\n",
       "    }\n",
       "\n",
       "    .dataframe tbody tr th {\n",
       "        vertical-align: top;\n",
       "    }\n",
       "\n",
       "    .dataframe thead th {\n",
       "        text-align: right;\n",
       "    }\n",
       "</style>\n",
       "<table border=\"1\" class=\"dataframe\">\n",
       "  <thead>\n",
       "    <tr style=\"text-align: right;\">\n",
       "      <th></th>\n",
       "      <th>Recency</th>\n",
       "      <th>Frequency</th>\n",
       "      <th>Monetary</th>\n",
       "    </tr>\n",
       "    <tr>\n",
       "      <th>CustomerID</th>\n",
       "      <th></th>\n",
       "      <th></th>\n",
       "      <th></th>\n",
       "    </tr>\n",
       "  </thead>\n",
       "  <tbody>\n",
       "    <tr>\n",
       "      <th>12347</th>\n",
       "      <td>-2.148608</td>\n",
       "      <td>1.074332</td>\n",
       "      <td>1.416941</td>\n",
       "    </tr>\n",
       "    <tr>\n",
       "      <th>12348</th>\n",
       "      <td>0.383935</td>\n",
       "      <td>0.386315</td>\n",
       "      <td>0.723031</td>\n",
       "    </tr>\n",
       "    <tr>\n",
       "      <th>12349</th>\n",
       "      <td>-0.575496</td>\n",
       "      <td>-0.955001</td>\n",
       "      <td>0.705319</td>\n",
       "    </tr>\n",
       "    <tr>\n",
       "      <th>12350</th>\n",
       "      <td>1.375533</td>\n",
       "      <td>-0.955001</td>\n",
       "      <td>-0.609645</td>\n",
       "    </tr>\n",
       "    <tr>\n",
       "      <th>12352</th>\n",
       "      <td>-0.128933</td>\n",
       "      <td>1.246749</td>\n",
       "      <td>0.986747</td>\n",
       "    </tr>\n",
       "  </tbody>\n",
       "</table>\n",
       "</div>"
      ],
      "text/plain": [
       "             Recency  Frequency  Monetary\n",
       "CustomerID                               \n",
       "12347      -2.148608   1.074332  1.416941\n",
       "12348       0.383935   0.386315  0.723031\n",
       "12349      -0.575496  -0.955001  0.705319\n",
       "12350       1.375533  -0.955001 -0.609645\n",
       "12352      -0.128933   1.246749  0.986747"
      ]
     },
     "execution_count": 58,
     "metadata": {},
     "output_type": "execute_result"
    }
   ],
   "source": [
    "# Standardize the data\n",
    "df_transformed = handle_skew(df_transformed)\n",
    "df_transformed = handle_scale(df_transformed)\n",
    "df_transformed.head()"
   ]
  },
  {
   "cell_type": "markdown",
   "metadata": {},
   "source": [
    "# 4.b > Decide the optimum number of clusters to be formed"
   ]
  },
  {
   "cell_type": "code",
   "execution_count": 59,
   "metadata": {},
   "outputs": [
    {
     "data": {
      "image/png": "[encoded data removed]",
      "text/plain": [
       "<Figure size 1080x720 with 1 Axes>"
      ]
     },
     "metadata": {
      "needs_background": "light"
     },
     "output_type": "display_data"
    }
   ],
   "source": [
    "# using elbow method to find optimum number of clusters\n",
    "wcss = []\n",
    "for i in range(1,11):\n",
    "    kmeans = KMeans(n_clusters = i, init='random', random_state=0)\n",
    "    kmeans.fit(df_transformed)\n",
    "    wcss.append(kmeans.inertia_)\n",
    "\n",
    "plt.plot(range(1,11), wcss)\n",
    "plt.title('The Elbow Method')\n",
    "plt.xlabel('Clusters')\n",
    "plt.ylabel('SSE')\n",
    "plt.show()\n",
    "\n",
    "# Looking at the elbow curve, i choose to use 4 clusters"
   ]
  },
  {
   "cell_type": "code",
   "execution_count": 60,
   "metadata": {},
   "outputs": [
    {
     "name": "stdout",
     "output_type": "stream",
     "text": [
      "[[-0.82193859 -0.38434497 -0.40429385]\n",
      " [ 0.12524142  0.34841848  0.53526434]\n",
      " [ 0.86166802 -0.7768491  -0.78982287]\n",
      " [-1.29874778  1.67967714  1.40878306]]\n",
      "(array([0, 1, 2, 3], dtype=int32), array([ 804, 1203, 1639,  692]))\n"
     ]
    }
   ],
   "source": [
    "# Creating KMeans clustering with 4 clusters\n",
    "kmeans_optimum = KMeans(n_clusters = 4, init = 'random',  random_state=0)\n",
    "y = kmeans_optimum.fit_predict(df_transformed)\n",
    "print(kmeans_optimum.cluster_centers_)\n",
    "print(np.unique(kmeans_optimum.labels_, return_counts=True))\n",
    "df_transformed['kmeans_cluster'] = y"
   ]
  },
  {
   "cell_type": "code",
   "execution_count": 61,
   "metadata": {},
   "outputs": [
    {
     "data": {
      "image/png": "[encoded data removed]",
      "text/plain": [
       "<Figure size 1080x720 with 1 Axes>"
      ]
     },
     "metadata": {
      "needs_background": "light"
     },
     "output_type": "display_data"
    }
   ],
   "source": [
    "# Plot in 3D\n",
    "kplot = plt.axes(projection='3d')\n",
    "xline = np.linspace(0, 15, 1000)\n",
    "yline = np.linspace(0, 15, 1000)\n",
    "zline = np.linspace(0, 15, 1000)\n",
    "kplot.plot3D(xline, yline, zline, 'black')\n",
    "\n",
    "# Data for three-dimensional scattered points\n",
    "data1 = df_transformed[df_transformed.kmeans_cluster==0]\n",
    "data2 = df_transformed[df_transformed.kmeans_cluster==1]\n",
    "data3 = df_transformed[df_transformed.kmeans_cluster==2]\n",
    "data4 = df_transformed[df_transformed.kmeans_cluster==3]\n",
    "\n",
    "#kplot.scatter3D(rfm_df.Recency, rfm_df.Frequency, rfm_df.Monetary, cmap = my_cmap)\n",
    "kplot.scatter3D(data1.Recency, data1.Frequency, data1.Monetary, c='red', label = 'Cluster 1')\n",
    "kplot.scatter3D(data2.Recency, data2.Frequency, data2.Monetary, c='blue', label = 'Cluster 2')\n",
    "kplot.scatter3D(data3.Recency, data3.Frequency, data3.Monetary, c='green', label = 'Cluster 3')\n",
    "kplot.scatter3D(data4.Recency, data4.Frequency, data4.Monetary, c='purple', label = 'Cluster 4')\n",
    "\n",
    "plt.legend()\n",
    "plt.title(\"Kmeans\")\n",
    "plt.show()"
   ]
  },
  {
   "cell_type": "code",
   "execution_count": 62,
   "metadata": {},
   "outputs": [
    {
     "name": "stdout",
     "output_type": "stream",
     "text": [
      "0.48290154456386547\n"
     ]
    }
   ],
   "source": [
    "# Silhouette score - to evaluate the quality of clusters\n",
    "# higher the score, the better the algorithm.\n",
    "from sklearn.metrics import silhouette_score\n",
    "score = silhouette_score(df_transformed,y)\n",
    "print(score)"
   ]
  },
  {
   "cell_type": "code",
   "execution_count": 75,
   "metadata": {},
   "outputs": [],
   "source": [
    "# Save data to excel for tableau dashboard\n",
    "df_elbow = pd.DataFrame(list(zip(range(1,11), wcss)), columns = ['Clusters', 'SSE'])\n",
    "with pd.ExcelWriter('RFM.xlsx') as writer:\n",
    "    rfm_df.to_excel(writer, sheet_name='rfm_score')\n",
    "    df_elbow.to_excel(writer, sheet_name='elbow_method')\n",
    "    df_transformed.to_excel(writer, sheet_name='rfm_cluster')\n"
   ]
  },
  {
   "cell_type": "code",
   "execution_count": null,
   "metadata": {},
   "outputs": [],
   "source": []
  }
 ],
 "metadata": {
  "kernelspec": {
   "display_name": "Python 3",
   "language": "python",
   "name": "python3"
  },
  "language_info": {
   "codemirror_mode": {
    "name": "ipython",
    "version": 3
   },
   "file_extension": ".py",
   "mimetype": "text/x-python",
   "name": "python",
   "nbconvert_exporter": "python",
   "pygments_lexer": "ipython3",
   "version": "3.7.6"
  }
 },
 "nbformat": 4,
 "nbformat_minor": 4
}
