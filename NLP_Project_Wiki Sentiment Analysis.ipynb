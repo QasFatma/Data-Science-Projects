{
 "cells": [
  {
   "cell_type": "markdown",
   "metadata": {},
   "source": [
    "# Wikipedia Toxicity"
   ]
  },
  {
   "cell_type": "markdown",
   "metadata": {},
   "source": [
    "''' Using NLP and machine learning, make a model to identify toxic comments from the Talk edit pages on Wikipedia.\n",
    " Help identify the words that make a comment toxic.'''\n"
   ]
  },
  {
   "cell_type": "markdown",
   "metadata": {},
   "source": [
    "#Analysis to be done: Build a text classification model using NLP and machine learning that detects toxic comments."
   ]
  },
  {
   "cell_type": "code",
   "execution_count": 1,
   "metadata": {},
   "outputs": [],
   "source": [
    "# import packages\n",
    "import pandas as pd\n",
    "import re\n",
    "import contractions\n",
    "import matplotlib.pyplot as plt\n",
    "import nltk\n",
    "from nltk.stem import WordNetLemmatizer\n",
    "lemmatizer = WordNetLemmatizer()\n",
    "\n",
    "from nltk.corpus import stopwords\n",
    "from sklearn.feature_extraction.text import ENGLISH_STOP_WORDS\n",
    "import numpy as np"
   ]
  },
  {
   "cell_type": "markdown",
   "metadata": {},
   "source": [
    "# 1. Load the data using read_csv function from pandas package"
   ]
  },
  {
   "cell_type": "code",
   "execution_count": 2,
   "metadata": {},
   "outputs": [
    {
     "data": {
      "text/html": [
       "<div>\n",
       "<style scoped>\n",
       "    .dataframe tbody tr th:only-of-type {\n",
       "        vertical-align: middle;\n",
       "    }\n",
       "\n",
       "    .dataframe tbody tr th {\n",
       "        vertical-align: top;\n",
       "    }\n",
       "\n",
       "    .dataframe thead th {\n",
       "        text-align: right;\n",
       "    }\n",
       "</style>\n",
       "<table border=\"1\" class=\"dataframe\">\n",
       "  <thead>\n",
       "    <tr style=\"text-align: right;\">\n",
       "      <th></th>\n",
       "      <th>id</th>\n",
       "      <th>comment_text</th>\n",
       "      <th>toxic</th>\n",
       "    </tr>\n",
       "  </thead>\n",
       "  <tbody>\n",
       "    <tr>\n",
       "      <th>0</th>\n",
       "      <td>e617e2489abe9bca</td>\n",
       "      <td>\"\\r\\n\\r\\n A barnstar for you! \\r\\n\\r\\n  The De...</td>\n",
       "      <td>0</td>\n",
       "    </tr>\n",
       "    <tr>\n",
       "      <th>1</th>\n",
       "      <td>9250cf637294e09d</td>\n",
       "      <td>\"\\r\\n\\r\\nThis seems unbalanced.  whatever I ha...</td>\n",
       "      <td>0</td>\n",
       "    </tr>\n",
       "    <tr>\n",
       "      <th>2</th>\n",
       "      <td>ce1aa4592d5240ca</td>\n",
       "      <td>Marya Dzmitruk was born in Minsk, Belarus in M...</td>\n",
       "      <td>0</td>\n",
       "    </tr>\n",
       "    <tr>\n",
       "      <th>3</th>\n",
       "      <td>48105766ff7f075b</td>\n",
       "      <td>\"\\r\\n\\r\\nTalkback\\r\\n\\r\\n Dear Celestia...  \"</td>\n",
       "      <td>0</td>\n",
       "    </tr>\n",
       "    <tr>\n",
       "      <th>4</th>\n",
       "      <td>0543d4f82e5470b6</td>\n",
       "      <td>New Categories \\r\\n\\r\\nI honestly think that w...</td>\n",
       "      <td>0</td>\n",
       "    </tr>\n",
       "  </tbody>\n",
       "</table>\n",
       "</div>"
      ],
      "text/plain": [
       "                 id                                       comment_text  toxic\n",
       "0  e617e2489abe9bca  \"\\r\\n\\r\\n A barnstar for you! \\r\\n\\r\\n  The De...      0\n",
       "1  9250cf637294e09d  \"\\r\\n\\r\\nThis seems unbalanced.  whatever I ha...      0\n",
       "2  ce1aa4592d5240ca  Marya Dzmitruk was born in Minsk, Belarus in M...      0\n",
       "3  48105766ff7f075b      \"\\r\\n\\r\\nTalkback\\r\\n\\r\\n Dear Celestia...  \"      0\n",
       "4  0543d4f82e5470b6  New Categories \\r\\n\\r\\nI honestly think that w...      0"
      ]
     },
     "execution_count": 2,
     "metadata": {},
     "output_type": "execute_result"
    }
   ],
   "source": [
    "# 2. Get the comments into a list, for easy text cleanup and manipulation - using DF\n",
    "wiki_comments = pd.read_csv(\"train.csv\")\n",
    "wiki_comments.head()"
   ]
  },
  {
   "cell_type": "code",
   "execution_count": 3,
   "metadata": {},
   "outputs": [
    {
     "name": "stdout",
     "output_type": "stream",
     "text": [
      "<class 'pandas.core.frame.DataFrame'>\n",
      "RangeIndex: 5000 entries, 0 to 4999\n",
      "Data columns (total 3 columns):\n",
      " #   Column        Non-Null Count  Dtype \n",
      "---  ------        --------------  ----- \n",
      " 0   id            5000 non-null   object\n",
      " 1   comment_text  5000 non-null   object\n",
      " 2   toxic         5000 non-null   int64 \n",
      "dtypes: int64(1), object(2)\n",
      "memory usage: 117.3+ KB\n"
     ]
    }
   ],
   "source": [
    "wiki_comments.info()"
   ]
  },
  {
   "cell_type": "code",
   "execution_count": 4,
   "metadata": {},
   "outputs": [
    {
     "data": {
      "text/plain": [
       "id              0\n",
       "comment_text    0\n",
       "toxic           0\n",
       "dtype: int64"
      ]
     },
     "execution_count": 4,
     "metadata": {},
     "output_type": "execute_result"
    }
   ],
   "source": [
    "# Check for null values - no null found\n",
    "wiki_comments.isnull().sum()"
   ]
  },
  {
   "cell_type": "code",
   "execution_count": 5,
   "metadata": {},
   "outputs": [
    {
     "data": {
      "text/html": [
       "<div>\n",
       "<style scoped>\n",
       "    .dataframe tbody tr th:only-of-type {\n",
       "        vertical-align: middle;\n",
       "    }\n",
       "\n",
       "    .dataframe tbody tr th {\n",
       "        vertical-align: top;\n",
       "    }\n",
       "\n",
       "    .dataframe thead th {\n",
       "        text-align: right;\n",
       "    }\n",
       "</style>\n",
       "<table border=\"1\" class=\"dataframe\">\n",
       "  <thead>\n",
       "    <tr style=\"text-align: right;\">\n",
       "      <th></th>\n",
       "      <th>comment_text</th>\n",
       "      <th>toxic</th>\n",
       "    </tr>\n",
       "  </thead>\n",
       "  <tbody>\n",
       "    <tr>\n",
       "      <th>0</th>\n",
       "      <td>\"\\r\\n\\r\\n A barnstar for you! \\r\\n\\r\\n  The De...</td>\n",
       "      <td>0</td>\n",
       "    </tr>\n",
       "    <tr>\n",
       "      <th>1</th>\n",
       "      <td>\"\\r\\n\\r\\nThis seems unbalanced.  whatever I ha...</td>\n",
       "      <td>0</td>\n",
       "    </tr>\n",
       "    <tr>\n",
       "      <th>2</th>\n",
       "      <td>Marya Dzmitruk was born in Minsk, Belarus in M...</td>\n",
       "      <td>0</td>\n",
       "    </tr>\n",
       "    <tr>\n",
       "      <th>3</th>\n",
       "      <td>\"\\r\\n\\r\\nTalkback\\r\\n\\r\\n Dear Celestia...  \"</td>\n",
       "      <td>0</td>\n",
       "    </tr>\n",
       "    <tr>\n",
       "      <th>4</th>\n",
       "      <td>New Categories \\r\\n\\r\\nI honestly think that w...</td>\n",
       "      <td>0</td>\n",
       "    </tr>\n",
       "  </tbody>\n",
       "</table>\n",
       "</div>"
      ],
      "text/plain": [
       "                                        comment_text  toxic\n",
       "0  \"\\r\\n\\r\\n A barnstar for you! \\r\\n\\r\\n  The De...      0\n",
       "1  \"\\r\\n\\r\\nThis seems unbalanced.  whatever I ha...      0\n",
       "2  Marya Dzmitruk was born in Minsk, Belarus in M...      0\n",
       "3      \"\\r\\n\\r\\nTalkback\\r\\n\\r\\n Dear Celestia...  \"      0\n",
       "4  New Categories \\r\\n\\r\\nI honestly think that w...      0"
      ]
     },
     "execution_count": 5,
     "metadata": {},
     "output_type": "execute_result"
    }
   ],
   "source": [
    "# drop 'id' column as it has no relevance to the model\n",
    "wiki_comments.drop(['id'], axis =1, inplace=True)\n",
    "wiki_comments.head()"
   ]
  },
  {
   "cell_type": "code",
   "execution_count": null,
   "metadata": {},
   "outputs": [],
   "source": []
  },
  {
   "cell_type": "code",
   "execution_count": 6,
   "metadata": {},
   "outputs": [
    {
     "data": {
      "text/plain": [
       "0    0.9126\n",
       "1    0.0874\n",
       "Name: toxic, dtype: float64"
      ]
     },
     "execution_count": 6,
     "metadata": {},
     "output_type": "execute_result"
    }
   ],
   "source": [
    "# Check for class balance - Toxic comments are less than 10%\n",
    "wiki_comments['toxic'].value_counts(normalize=True)"
   ]
  },
  {
   "cell_type": "code",
   "execution_count": 7,
   "metadata": {},
   "outputs": [
    {
     "data": {
      "text/plain": [
       "<AxesSubplot:title={'center':'Value count of Toxic Comments'}>"
      ]
     },
     "execution_count": 7,
     "metadata": {},
     "output_type": "execute_result"
    },
    {
     "data": {
      "image/png": "[encoded data removed]",
      "text/plain": [
       "<Figure size 432x288 with 1 Axes>"
      ]
     },
     "metadata": {
      "needs_background": "light"
     },
     "output_type": "display_data"
    }
   ],
   "source": [
    "wiki_comments['toxic'].value_counts(normalize=True).plot(kind=\"bar\", title=\"Value count of Toxic Comments\")"
   ]
  },
  {
   "cell_type": "markdown",
   "metadata": {},
   "source": [
    "# 3. Data Cleanup"
   ]
  },
  {
   "cell_type": "code",
   "execution_count": 8,
   "metadata": {},
   "outputs": [
    {
     "data": {
      "text/html": [
       "<div>\n",
       "<style scoped>\n",
       "    .dataframe tbody tr th:only-of-type {\n",
       "        vertical-align: middle;\n",
       "    }\n",
       "\n",
       "    .dataframe tbody tr th {\n",
       "        vertical-align: top;\n",
       "    }\n",
       "\n",
       "    .dataframe thead th {\n",
       "        text-align: right;\n",
       "    }\n",
       "</style>\n",
       "<table border=\"1\" class=\"dataframe\">\n",
       "  <thead>\n",
       "    <tr style=\"text-align: right;\">\n",
       "      <th></th>\n",
       "      <th>comment_text</th>\n",
       "      <th>toxic</th>\n",
       "    </tr>\n",
       "  </thead>\n",
       "  <tbody>\n",
       "    <tr>\n",
       "      <th>0</th>\n",
       "      <td>\"\\r\\n\\r\\n A barnstar for you! \\r\\n\\r\\n  The De...</td>\n",
       "      <td>0</td>\n",
       "    </tr>\n",
       "    <tr>\n",
       "      <th>1</th>\n",
       "      <td>\"\\r\\n\\r\\nThis seems unbalanced.  whatever I ha...</td>\n",
       "      <td>0</td>\n",
       "    </tr>\n",
       "    <tr>\n",
       "      <th>2</th>\n",
       "      <td>Marya Dzmitruk was born in Minsk, Belarus in M...</td>\n",
       "      <td>0</td>\n",
       "    </tr>\n",
       "    <tr>\n",
       "      <th>3</th>\n",
       "      <td>\"\\r\\n\\r\\nTalkback\\r\\n\\r\\n Dear Celestia...  \"</td>\n",
       "      <td>0</td>\n",
       "    </tr>\n",
       "    <tr>\n",
       "      <th>4</th>\n",
       "      <td>New Categories \\r\\n\\r\\nI honestly think that w...</td>\n",
       "      <td>0</td>\n",
       "    </tr>\n",
       "  </tbody>\n",
       "</table>\n",
       "</div>"
      ],
      "text/plain": [
       "                                        comment_text  toxic\n",
       "0  \"\\r\\n\\r\\n A barnstar for you! \\r\\n\\r\\n  The De...      0\n",
       "1  \"\\r\\n\\r\\nThis seems unbalanced.  whatever I ha...      0\n",
       "2  Marya Dzmitruk was born in Minsk, Belarus in M...      0\n",
       "3      \"\\r\\n\\r\\nTalkback\\r\\n\\r\\n Dear Celestia...  \"      0\n",
       "4  New Categories \\r\\n\\r\\nI honestly think that w...      0"
      ]
     },
     "execution_count": 8,
     "metadata": {},
     "output_type": "execute_result"
    }
   ],
   "source": [
    "wiki_comments.head()"
   ]
  },
  {
   "cell_type": "code",
   "execution_count": 9,
   "metadata": {},
   "outputs": [
    {
     "data": {
      "text/plain": [
       "'ass neck \\r\\n\\r\\nVirtual Graffiti: hmm.. seems close.....um not sure.....um..wait yes you have an ass on your neck.\\r\\n\\r\\nhahah; you are beyond a fool'"
      ]
     },
     "execution_count": 9,
     "metadata": {},
     "output_type": "execute_result"
    }
   ],
   "source": [
    "wiki_comments['comment_text'][1963]"
   ]
  },
  {
   "cell_type": "code",
   "execution_count": 10,
   "metadata": {},
   "outputs": [],
   "source": [
    "# re.findall(r\"\\d+.\\d+.*\", \"jbejd wkdhk 10.1.23\")\n",
    "# re.sub(r\"\\d+.\\d+.*\", \"\", wiki_comments['comment_text'][12])\n",
    "# re.findall(r\"http:\\S+\", wiki_comments['comment_text'][16])\n",
    "# re.sub(r\"http:\\S+\", \"\", wiki_comments['comment_text'][16])\n",
    "# re.findall(r\"\\W+\", wiki_comments['comment_text'][17].lower())\n",
    "# re.sub(r\"\\W+\", \" \", wiki_comments['comment_text'][17].lower())\n",
    "# contractions.fix(wiki_comments['comment_text'][17])\n",
    "#lemmatizer.lemmatize('ass')\n",
    "#re.findall(r\"\\w{3,9}.\\d{2}..\\d{4}\", wiki_comments['comment_text'][2].lower())\n",
    "# re.findall(r\"\\w{3,9}.\\d{2}..\\d{4}|\\d{4}|\\d{1,2}.\\w{3,9}.\\d{4}|\\d{1,2}.\\w{3,9}\", wiki_comments['comment_text'][44].lower())\n",
    "#cleanup(wiki_comments['comment_text'][1963])"
   ]
  },
  {
   "cell_type": "code",
   "execution_count": 11,
   "metadata": {},
   "outputs": [],
   "source": [
    "# Stopwords\n",
    "nltk_stopwords = set(stopwords.words('english'))\n",
    "sklearn_stopwords = set(ENGLISH_STOP_WORDS)\n",
    "all_stopwords = nltk_stopwords.union(sklearn_stopwords)\n",
    "#print(\"Total num of stopwords : \", len(all_stopwords))"
   ]
  },
  {
   "cell_type": "code",
   "execution_count": 12,
   "metadata": {},
   "outputs": [],
   "source": [
    "# Function to remove stopwords\n",
    "def remove_stopwords(text, sw):\n",
    "    text = [t for t in text.split() if t not in sw]\n",
    "    if len(sw) > 100:\n",
    "        return text\n",
    "    return ' '.join(text)"
   ]
  },
  {
   "cell_type": "code",
   "execution_count": 13,
   "metadata": {},
   "outputs": [],
   "source": [
    "# Define a function to perform data cleaning\n",
    "def cleanup(comment):\n",
    "    # 3.3. Normalize the casing\n",
    "    # Removing dates\n",
    "    cleaned_text = re.sub(r\"\\w{3,9}.\\d{2}..\\d{4}|\\d{4}|\\d{1,2}.\\w{3,9}.\\d{4}|\\d{1,2}.\\w{3,9}\", \"\", comment.lower())\n",
    "    \n",
    "    # 3.1. Using regular expressions, remove IP addresses\n",
    "    cleaned_text = re.sub(r\"\\d+.\\d+.*\", \"\", cleaned_text)\n",
    "    \n",
    "    # 3.2. Using regular expressions, remove URLs\n",
    "    cleaned_text = re.sub(r\"http:\\S+\", \"\", cleaned_text)\n",
    "    cleaned_text = re.sub(r\"\\S+.com\\S+\", \"\", cleaned_text)\n",
    "    \n",
    "    # Remove contractions such as we'd\n",
    "    cleaned_text = contractions.fix(cleaned_text)\n",
    "    \n",
    "    # 3.6 Remove punctuation and numbers\n",
    "    cleaned_text = re.sub(r\"[^a-z]\", \" \", cleaned_text)\n",
    "    \n",
    "    # 3.4. Tokenize\n",
    "    # 3.5. Remove stop words\n",
    "    cleaned_comment = ''\n",
    "    comment_afterstopword_removal = remove_stopwords(cleaned_text, all_stopwords)\n",
    "    \n",
    "    # Removing words of length 2 or less\n",
    "    # Lemmatization\n",
    "    for t in comment_afterstopword_removal:\n",
    "        lem = lemmatizer.lemmatize(t)\n",
    "        if(len(lem) > 2):\n",
    "            cleaned_comment = cleaned_comment + lem + ' '\n",
    "        \n",
    "    return cleaned_comment\n",
    "    "
   ]
  },
  {
   "cell_type": "code",
   "execution_count": 14,
   "metadata": {},
   "outputs": [],
   "source": [
    "wiki_comments['cleaned_comments'] = wiki_comments['comment_text'].apply(lambda x: cleanup(x))"
   ]
  },
  {
   "cell_type": "code",
   "execution_count": 15,
   "metadata": {},
   "outputs": [
    {
     "data": {
      "text/plain": [
       "0    barnstar defender wiki barnstar like edit kaya...\n",
       "1    unbalanced said mathsci said far extreme unple...\n",
       "2    marya dzmitruk born minsk belarus mother olga ...\n",
       "3                              talkback dear celestia \n",
       "4    new category honestly think need add category ...\n",
       "Name: cleaned_comments, dtype: object"
      ]
     },
     "execution_count": 15,
     "metadata": {},
     "output_type": "execute_result"
    }
   ],
   "source": [
    "wiki_comments['cleaned_comments'].head()"
   ]
  },
  {
   "cell_type": "markdown",
   "metadata": {},
   "source": [
    "# 4. Using a counter, find the top terms in the data. "
   ]
  },
  {
   "cell_type": "code",
   "execution_count": 16,
   "metadata": {},
   "outputs": [],
   "source": [
    "# Write a code to collect all the words from all tweets into a single list\n",
    "def get_allWords(colname):\n",
    "    all_words = []\n",
    "    for t in wiki_comments[colname]:\n",
    "        all_words.extend(t.split())\n",
    "    print(\"Number of words: \", len(all_words))\n",
    "    return all_words"
   ]
  },
  {
   "cell_type": "code",
   "execution_count": 17,
   "metadata": {},
   "outputs": [],
   "source": [
    "def Plot_FreqDist(all_words, top=25):\n",
    "    freq_dist = nltk.FreqDist(all_words)\n",
    "\n",
    "    plt.figure(figsize=(12,5))\n",
    "    plt.title('Top 25 most common words')\n",
    "    plt.xticks(fontsize=15)\n",
    "\n",
    "    freq_dist.plot(top, cumulative=False)\n",
    "    plt.show()\n",
    "\n",
    "# Frequency Distribution\n",
    "def freqDist_plot(colname, top=25):\n",
    "    all_words = get_allWords(colname)\n",
    "    Plot_FreqDist(all_words, top)\n",
    "    \n"
   ]
  },
  {
   "cell_type": "code",
   "execution_count": 18,
   "metadata": {},
   "outputs": [
    {
     "name": "stdout",
     "output_type": "stream",
     "text": [
      "Number of words:  140096\n"
     ]
    },
    {
     "data": {
      "image/png": "[encoded data removed]",
      "text/plain": [
       "<Figure size 864x360 with 1 Axes>"
      ]
     },
     "metadata": {
      "needs_background": "light"
     },
     "output_type": "display_data"
    }
   ],
   "source": [
    "# Word count before contextual stopwords removal - 141290\n",
    "freqDist_plot('cleaned_comments')"
   ]
  },
  {
   "cell_type": "code",
   "execution_count": 19,
   "metadata": {},
   "outputs": [],
   "source": [
    "# 4.1. Can any of these be considered contextual stop words? - dropping contextual stopwords\n",
    "# Words like “Wikipedia”, “page”, “edit” are examples of contextual stop words\n",
    "Contextual_Stopwords = {\"wikipedia\", \"page\", \"edit\", \"article\", \"wiki\", \"wikiproject\", \"edits\"}\n",
    "colname = 'stopwords_cleaned_comments'\n",
    "#print(remove_stopwords(wiki_comments['cleaned_comments'][50], contextual_stopwords))\n",
    "wiki_comments[colname] = wiki_comments['cleaned_comments'].apply(lambda x: remove_stopwords(x, Contextual_Stopwords))"
   ]
  },
  {
   "cell_type": "code",
   "execution_count": 20,
   "metadata": {},
   "outputs": [
    {
     "data": {
      "text/html": [
       "<div>\n",
       "<style scoped>\n",
       "    .dataframe tbody tr th:only-of-type {\n",
       "        vertical-align: middle;\n",
       "    }\n",
       "\n",
       "    .dataframe tbody tr th {\n",
       "        vertical-align: top;\n",
       "    }\n",
       "\n",
       "    .dataframe thead th {\n",
       "        text-align: right;\n",
       "    }\n",
       "</style>\n",
       "<table border=\"1\" class=\"dataframe\">\n",
       "  <thead>\n",
       "    <tr style=\"text-align: right;\">\n",
       "      <th></th>\n",
       "      <th>comment_text</th>\n",
       "      <th>toxic</th>\n",
       "      <th>cleaned_comments</th>\n",
       "      <th>stopwords_cleaned_comments</th>\n",
       "    </tr>\n",
       "  </thead>\n",
       "  <tbody>\n",
       "    <tr>\n",
       "      <th>0</th>\n",
       "      <td>\"\\r\\n\\r\\n A barnstar for you! \\r\\n\\r\\n  The De...</td>\n",
       "      <td>0</td>\n",
       "      <td>barnstar defender wiki barnstar like edit kaya...</td>\n",
       "      <td>barnstar defender barnstar like kayastha let f...</td>\n",
       "    </tr>\n",
       "    <tr>\n",
       "      <th>1</th>\n",
       "      <td>\"\\r\\n\\r\\nThis seems unbalanced.  whatever I ha...</td>\n",
       "      <td>0</td>\n",
       "      <td>unbalanced said mathsci said far extreme unple...</td>\n",
       "      <td>unbalanced said mathsci said far extreme unple...</td>\n",
       "    </tr>\n",
       "    <tr>\n",
       "      <th>2</th>\n",
       "      <td>Marya Dzmitruk was born in Minsk, Belarus in M...</td>\n",
       "      <td>0</td>\n",
       "      <td>marya dzmitruk born minsk belarus mother olga ...</td>\n",
       "      <td>marya dzmitruk born minsk belarus mother olga ...</td>\n",
       "    </tr>\n",
       "    <tr>\n",
       "      <th>3</th>\n",
       "      <td>\"\\r\\n\\r\\nTalkback\\r\\n\\r\\n Dear Celestia...  \"</td>\n",
       "      <td>0</td>\n",
       "      <td>talkback dear celestia</td>\n",
       "      <td>talkback dear celestia</td>\n",
       "    </tr>\n",
       "    <tr>\n",
       "      <th>4</th>\n",
       "      <td>New Categories \\r\\n\\r\\nI honestly think that w...</td>\n",
       "      <td>0</td>\n",
       "      <td>new category honestly think need add category ...</td>\n",
       "      <td>new category honestly think need add category ...</td>\n",
       "    </tr>\n",
       "  </tbody>\n",
       "</table>\n",
       "</div>"
      ],
      "text/plain": [
       "                                        comment_text  toxic  \\\n",
       "0  \"\\r\\n\\r\\n A barnstar for you! \\r\\n\\r\\n  The De...      0   \n",
       "1  \"\\r\\n\\r\\nThis seems unbalanced.  whatever I ha...      0   \n",
       "2  Marya Dzmitruk was born in Minsk, Belarus in M...      0   \n",
       "3      \"\\r\\n\\r\\nTalkback\\r\\n\\r\\n Dear Celestia...  \"      0   \n",
       "4  New Categories \\r\\n\\r\\nI honestly think that w...      0   \n",
       "\n",
       "                                    cleaned_comments  \\\n",
       "0  barnstar defender wiki barnstar like edit kaya...   \n",
       "1  unbalanced said mathsci said far extreme unple...   \n",
       "2  marya dzmitruk born minsk belarus mother olga ...   \n",
       "3                            talkback dear celestia    \n",
       "4  new category honestly think need add category ...   \n",
       "\n",
       "                          stopwords_cleaned_comments  \n",
       "0  barnstar defender barnstar like kayastha let f...  \n",
       "1  unbalanced said mathsci said far extreme unple...  \n",
       "2  marya dzmitruk born minsk belarus mother olga ...  \n",
       "3                             talkback dear celestia  \n",
       "4  new category honestly think need add category ...  "
      ]
     },
     "execution_count": 20,
     "metadata": {},
     "output_type": "execute_result"
    }
   ],
   "source": [
    "wiki_comments.head()"
   ]
  },
  {
   "cell_type": "code",
   "execution_count": 21,
   "metadata": {},
   "outputs": [
    {
     "name": "stdout",
     "output_type": "stream",
     "text": [
      "Number of words:  133475\n"
     ]
    },
    {
     "data": {
      "image/png": "[encoded data removed]",
      "text/plain": [
       "<Figure size 864x360 with 1 Axes>"
      ]
     },
     "metadata": {
      "needs_background": "light"
     },
     "output_type": "display_data"
    }
   ],
   "source": [
    "# Plot after contextual stopword removal\n",
    "freqDist_plot(colname)"
   ]
  },
  {
   "cell_type": "markdown",
   "metadata": {},
   "source": [
    "# 5. Separate data into train and test sets"
   ]
  },
  {
   "cell_type": "code",
   "execution_count": 22,
   "metadata": {},
   "outputs": [],
   "source": [
    "from sklearn.model_selection import train_test_split\n",
    "\n",
    "X = wiki_comments['stopwords_cleaned_comments']\n",
    "y = wiki_comments['toxic']\n",
    "\n",
    "# 5.2. Use a 70-30 split\n",
    "X_train, X_test, y_train, y_test = train_test_split(\n",
    "    X, y, test_size=0.30, stratify=y, random_state=42)"
   ]
  },
  {
   "cell_type": "code",
   "execution_count": 23,
   "metadata": {},
   "outputs": [
    {
     "name": "stdout",
     "output_type": "stream",
     "text": [
      "X Train shape:  (3500,)\n",
      "X Test shape:  (1500,)\n",
      "0    0.9126\n",
      "1    0.0874\n",
      "Name: toxic, dtype: float64\n",
      "0    0.912571\n",
      "1    0.087429\n",
      "Name: toxic, dtype: float64\n",
      "0    0.912667\n",
      "1    0.087333\n",
      "Name: toxic, dtype: float64\n"
     ]
    }
   ],
   "source": [
    "print(\"X Train shape: \", X_train.shape)\n",
    "print(\"X Test shape: \", X_test.shape)\n",
    "print(y.value_counts(normalize=True))\n",
    "print(y_train.value_counts(normalize=True))\n",
    "print(y_test.value_counts(normalize=True))"
   ]
  },
  {
   "cell_type": "markdown",
   "metadata": {},
   "source": [
    "# 6. Use TF-IDF values for the terms as feature to get into a vector space model"
   ]
  },
  {
   "cell_type": "code",
   "execution_count": 24,
   "metadata": {},
   "outputs": [],
   "source": [
    "# 6.1. Import TF-IDF vectorizer from sklearn\n",
    "from sklearn.feature_extraction.text import TfidfVectorizer"
   ]
  },
  {
   "cell_type": "code",
   "execution_count": 25,
   "metadata": {},
   "outputs": [],
   "source": [
    "# 6.2. Instantiate with a maximum of 4000 terms in your vocabulary\n",
    "TFIDF = TfidfVectorizer(max_features=4000)"
   ]
  },
  {
   "cell_type": "code",
   "execution_count": 26,
   "metadata": {},
   "outputs": [
    {
     "name": "stdout",
     "output_type": "stream",
     "text": [
      "(3500, 4000)\n"
     ]
    },
    {
     "data": {
      "text/plain": [
       "array(['abc', 'abe', 'ability', ..., 'zeta', 'zheng', 'zone'],\n",
       "      dtype=object)"
      ]
     },
     "execution_count": 26,
     "metadata": {},
     "output_type": "execute_result"
    }
   ],
   "source": [
    "# 6.3. Fit and apply on the train set\n",
    "tfidf_x_train = TFIDF.fit_transform(X_train)\n",
    "print(tfidf_x_train.shape)\n",
    "TFIDF.get_feature_names_out()"
   ]
  },
  {
   "cell_type": "code",
   "execution_count": 27,
   "metadata": {},
   "outputs": [
    {
     "name": "stdout",
     "output_type": "stream",
     "text": [
      "(1500, 4000)\n"
     ]
    }
   ],
   "source": [
    "# 6.4. Apply on the test set\n",
    "tfidf_x_test = TFIDF.transform(X_test)\n",
    "print(tfidf_x_test.shape)"
   ]
  },
  {
   "cell_type": "markdown",
   "metadata": {},
   "source": [
    "# 7. Model building: Support Vector Machine"
   ]
  },
  {
   "cell_type": "code",
   "execution_count": 28,
   "metadata": {},
   "outputs": [],
   "source": [
    "from sklearn.svm import SVC\n",
    "from sklearn.model_selection import cross_val_score, cross_validate\n",
    "from sklearn.model_selection import StratifiedKFold"
   ]
  },
  {
   "cell_type": "code",
   "execution_count": 29,
   "metadata": {},
   "outputs": [],
   "source": [
    "# 7.1. Instantiate SVC from sklearn with a linear kernel\n",
    "SVC_1 = SVC(kernel='linear')"
   ]
  },
  {
   "cell_type": "code",
   "execution_count": 30,
   "metadata": {},
   "outputs": [
    {
     "data": {
      "text/plain": [
       "SVC(kernel='linear')"
      ]
     },
     "execution_count": 30,
     "metadata": {},
     "output_type": "execute_result"
    }
   ],
   "source": [
    "# 7.2. Fit on the train data\n",
    "SVC_1.fit(tfidf_x_train, y_train)"
   ]
  },
  {
   "cell_type": "code",
   "execution_count": 31,
   "metadata": {},
   "outputs": [],
   "source": [
    "# 7.3. Make predictions for the train and the test set\n",
    "svc_pred = SVC_1.predict(tfidf_x_test)"
   ]
  },
  {
   "cell_type": "markdown",
   "metadata": {},
   "source": [
    "# 8. Model evaluation: Accuracy, recall, and f1_score"
   ]
  },
  {
   "cell_type": "code",
   "execution_count": 32,
   "metadata": {},
   "outputs": [
    {
     "data": {
      "text/plain": [
       "0.9711428571428572"
      ]
     },
     "execution_count": 32,
     "metadata": {},
     "output_type": "execute_result"
    }
   ],
   "source": [
    "# 8.1. Report the accuracy on the train set\n",
    "SVC_1.score(tfidf_x_train, y_train)"
   ]
  },
  {
   "cell_type": "code",
   "execution_count": 33,
   "metadata": {},
   "outputs": [
    {
     "data": {
      "text/plain": [
       "0.9433333333333334"
      ]
     },
     "execution_count": 33,
     "metadata": {},
     "output_type": "execute_result"
    }
   ],
   "source": [
    "# Model has good accuracy\n",
    "SVC_1.score(tfidf_x_test, y_test)"
   ]
  },
  {
   "cell_type": "code",
   "execution_count": 34,
   "metadata": {},
   "outputs": [],
   "source": [
    "from sklearn.metrics import recall_score\n",
    "from sklearn.metrics import balanced_accuracy_score\n",
    "from sklearn.metrics import precision_recall_fscore_support"
   ]
  },
  {
   "cell_type": "code",
   "execution_count": 35,
   "metadata": {},
   "outputs": [
    {
     "data": {
      "text/plain": [
       "0.3893129770992366"
      ]
     },
     "execution_count": 35,
     "metadata": {},
     "output_type": "execute_result"
    }
   ],
   "source": [
    "# Recall score is low - 0.39\n",
    "recall_score(y_test, svc_pred)"
   ]
  },
  {
   "cell_type": "code",
   "execution_count": 36,
   "metadata": {},
   "outputs": [
    {
     "data": {
      "text/plain": [
       "0.6928303380748192"
      ]
     },
     "execution_count": 36,
     "metadata": {},
     "output_type": "execute_result"
    }
   ],
   "source": [
    "# Recall score on balanced dataset is better than normal recall score  - 69%\n",
    "balanced_accuracy_score(y_test, svc_pred)"
   ]
  },
  {
   "cell_type": "code",
   "execution_count": 37,
   "metadata": {},
   "outputs": [
    {
     "data": {
      "text/plain": [
       "(array([0.94459834, 0.91071429]),\n",
       " array([0.9963477 , 0.38931298]),\n",
       " array([0.96978315, 0.54545455]),\n",
       " array([1369,  131]))"
      ]
     },
     "execution_count": 37,
     "metadata": {},
     "output_type": "execute_result"
    }
   ],
   "source": [
    "# 8.2. Report the recall on the train set: decent, high, low?\n",
    "# Recall on the test set looks low - 0.39\n",
    "# Get the f1_score on the train set\n",
    "# f1_score is medium - 0.54\n",
    "# The model predicts 0.91 accurately\n",
    "precision_recall_fscore_support(y_test, svc_pred)"
   ]
  },
  {
   "cell_type": "code",
   "execution_count": 38,
   "metadata": {},
   "outputs": [
    {
     "name": "stdout",
     "output_type": "stream",
     "text": [
      "97.03 0.12\n",
      "94.46 0.68\n"
     ]
    }
   ],
   "source": [
    "# Using StratifiedKFold for class imbalance\n",
    "# Model train accuracy is 97.03 while test accuracy is 94.46 which looks good\n",
    "kfold = StratifiedKFold(n_splits=5, shuffle=True, random_state=42)\n",
    "results = cross_validate(SVC_1, tfidf_x_train, y_train, cv=kfold, scoring='accuracy', return_train_score=True)\n",
    "print(np.round((results['train_score'].mean())*100, 2), np.round((results['train_score'].std())*100, 2)) \n",
    "print(np.round((results['test_score'].mean())*100, 2), np.round((results['test_score'].std())*100, 2)) "
   ]
  },
  {
   "cell_type": "code",
   "execution_count": 39,
   "metadata": {},
   "outputs": [],
   "source": [
    "# Defining a method to check a model's accuracy\n",
    "def test_accuracy(SVC_model, x_train = tfidf_x_train, x_test=tfidf_x_test):\n",
    "    SVC_model.fit(x_train, y_train)\n",
    "    svc_pred = SVC_model.predict(x_test)\n",
    "    results = cross_validate(SVC_model, x_train, y_train, cv=kfold, scoring='accuracy', return_train_score=True)\n",
    "    print(np.round((results['train_score'].mean())*100, 2), np.round((results['train_score'].std())*100, 2)) \n",
    "    print(np.round((results['test_score'].mean())*100, 2), np.round((results['test_score'].std())*100, 2)) \n",
    "    print(precision_recall_fscore_support(y_test, svc_pred))"
   ]
  },
  {
   "cell_type": "markdown",
   "metadata": {},
   "source": [
    "# 9. Adjust  the class imbalance, as the model seems to focus on the 0s"
   ]
  },
  {
   "cell_type": "markdown",
   "metadata": {},
   "source": [
    "# 10. Train again with the adjustment and evaluate"
   ]
  },
  {
   "cell_type": "code",
   "execution_count": 40,
   "metadata": {},
   "outputs": [
    {
     "name": "stdout",
     "output_type": "stream",
     "text": [
      "98.68 0.22\n",
      "93.83 0.65\n",
      "(array([0.95778748, 0.57936508]), array([0.96128561, 0.55725191]), array([0.95953336, 0.56809339]), array([1369,  131]))\n"
     ]
    }
   ],
   "source": [
    "# 9.1. Adjust the appropriate parameter in the SVC module\n",
    "# adding balanced class weight - model looks overfitted\n",
    "\n",
    "# 10.2. Evaluate the predictions on the validation set: \n",
    "# accuracy - test accuracy has decreased and model looks overfitted\n",
    "# recall - There is an improvement in recall score but not as high as desired - 0.56\n",
    "# f1_score - 0.57 is higher than the previous model but as high as desired\n",
    "\n",
    "SVC_2 = SVC(kernel='linear', class_weight='balanced')\n",
    "test_accuracy(SVC_2)"
   ]
  },
  {
   "cell_type": "markdown",
   "metadata": {},
   "source": [
    "# 11. Hyperparameter tuning"
   ]
  },
  {
   "cell_type": "code",
   "execution_count": 41,
   "metadata": {},
   "outputs": [],
   "source": [
    "# 11.1. Import GridSearch and StratifiedKFold\n",
    "from sklearn.model_selection import GridSearchCV"
   ]
  },
  {
   "cell_type": "code",
   "execution_count": 42,
   "metadata": {},
   "outputs": [
    {
     "data": {
      "text/plain": [
       "array([1.0000e-05, 5.0010e-02, 1.0001e-01, 1.5001e-01, 2.0001e-01,\n",
       "       2.5001e-01, 3.0001e-01, 3.5001e-01, 4.0001e-01, 4.5001e-01,\n",
       "       5.0001e-01, 5.5001e-01, 6.0001e-01, 6.5001e-01, 7.0001e-01,\n",
       "       7.5001e-01, 8.0001e-01, 8.5001e-01, 9.0001e-01, 9.5001e-01])"
      ]
     },
     "execution_count": 42,
     "metadata": {},
     "output_type": "execute_result"
    }
   ],
   "source": [
    "# 11.2. Provide the parameter grid to choose for ‘C’\n",
    "C_values = np.arange(0.00001, 1, 0.05) # 20 values\n",
    "C_values"
   ]
  },
  {
   "cell_type": "code",
   "execution_count": 43,
   "metadata": {},
   "outputs": [
    {
     "name": "stdout",
     "output_type": "stream",
     "text": [
      "Fitting 5 folds for each of 20 candidates, totalling 100 fits\n"
     ]
    }
   ],
   "source": [
    "# 11.3. Use a balanced class weight while instantiating the Support Vector Classifier\n",
    "grid = GridSearchCV(estimator=SVC_2, param_grid={'C': C_values}, cv=kfold, scoring='accuracy', \\\n",
    "                    return_train_score=True, verbose=2, n_jobs=-1)\n",
    "grid_results = grid.fit(tfidf_x_train, y_train)"
   ]
  },
  {
   "cell_type": "code",
   "execution_count": 44,
   "metadata": {},
   "outputs": [
    {
     "data": {
      "text/plain": [
       "({'C': 0.10001}, 0.9454285714285714, 2)"
      ]
     },
     "execution_count": 44,
     "metadata": {},
     "output_type": "execute_result"
    }
   ],
   "source": [
    "grid_results.best_params_, grid_results.best_score_, grid_results.best_index_"
   ]
  },
  {
   "cell_type": "code",
   "execution_count": 45,
   "metadata": {},
   "outputs": [
    {
     "data": {
      "text/plain": [
       "97.65"
      ]
     },
     "execution_count": 45,
     "metadata": {},
     "output_type": "execute_result"
    }
   ],
   "source": [
    "grid_results.cv_results_['mean_train_score'][grid_results.best_index_]*100"
   ]
  },
  {
   "cell_type": "code",
   "execution_count": 46,
   "metadata": {},
   "outputs": [
    {
     "data": {
      "text/plain": [
       "94.54285714285714"
      ]
     },
     "execution_count": 46,
     "metadata": {},
     "output_type": "execute_result"
    }
   ],
   "source": [
    "grid_results.cv_results_['mean_test_score'][grid_results.best_index_]*100"
   ]
  },
  {
   "cell_type": "code",
   "execution_count": 47,
   "metadata": {},
   "outputs": [
    {
     "data": {
      "text/plain": [
       "[<matplotlib.lines.Line2D at 0x7ff97cdd2e50>]"
      ]
     },
     "execution_count": 47,
     "metadata": {},
     "output_type": "execute_result"
    },
    {
     "data": {
      "image/png": "[encoded data removed]",
      "text/plain": [
       "<Figure size 432x288 with 1 Axes>"
      ]
     },
     "metadata": {
      "needs_background": "light"
     },
     "output_type": "display_data"
    }
   ],
   "source": [
    "plt.plot(grid_results.cv_results_['mean_train_score'] - grid_results.cv_results_['mean_test_score'])"
   ]
  },
  {
   "cell_type": "markdown",
   "metadata": {},
   "source": [
    "# 12. Find the parameters with the best recall in cross validation"
   ]
  },
  {
   "cell_type": "code",
   "execution_count": 48,
   "metadata": {},
   "outputs": [
    {
     "name": "stdout",
     "output_type": "stream",
     "text": [
      "Fitting 5 folds for each of 20 candidates, totalling 100 fits\n"
     ]
    }
   ],
   "source": [
    "# 12.1. Choose ‘recall’ as the metric for scoring\n",
    "grid = GridSearchCV(estimator=SVC_2, param_grid={'C': C_values}, cv=kfold, scoring='recall', \\\n",
    "                    return_train_score=True, verbose=2, n_jobs=-1)\n",
    "grid_results = grid.fit(tfidf_x_train, y_train)"
   ]
  },
  {
   "cell_type": "markdown",
   "metadata": {},
   "source": [
    "# 13. What are the best parameters?"
   ]
  },
  {
   "cell_type": "code",
   "execution_count": 49,
   "metadata": {},
   "outputs": [
    {
     "data": {
      "text/plain": [
       "({'C': 0.35001000000000004}, 0.6042834479111582, 7)"
      ]
     },
     "execution_count": 49,
     "metadata": {},
     "output_type": "execute_result"
    }
   ],
   "source": [
    "grid_results.best_params_, grid_results.best_score_, grid_results.best_index_"
   ]
  },
  {
   "cell_type": "code",
   "execution_count": 50,
   "metadata": {},
   "outputs": [],
   "source": [
    "# C = 0.1 is the best parameter for accuracy\n",
    "# C = 0.35 is the best parameter for recall"
   ]
  },
  {
   "cell_type": "markdown",
   "metadata": {},
   "source": [
    "# 14. Predict and evaluate using the best estimator"
   ]
  },
  {
   "cell_type": "code",
   "execution_count": 51,
   "metadata": {},
   "outputs": [
    {
     "name": "stdout",
     "output_type": "stream",
     "text": [
      "97.65 0.14\n",
      "94.54 0.58\n",
      "(array([0.95776664, 0.69902913]), array([0.97735573, 0.54961832]), array([0.96746204, 0.61538462]), array([1369,  131]))\n"
     ]
    }
   ],
   "source": [
    "# 14.1. Use best estimator from the accuracy grid search to make predictions on the test set\n",
    "#  The difference in accuracy between train n test and SD reduces !\n",
    "SVC_3 = SVC(kernel='linear', class_weight='balanced', C= 0.1)\n",
    "test_accuracy(SVC_3)"
   ]
  },
  {
   "cell_type": "code",
   "execution_count": 52,
   "metadata": {},
   "outputs": [
    {
     "name": "stdout",
     "output_type": "stream",
     "text": [
      "97.85 0.42\n",
      "93.63 0.35\n",
      "(array([0.96288048, 0.52941176]), array([0.94740687, 0.61832061]), array([0.955081  , 0.57042254]), array([1369,  131]))\n"
     ]
    }
   ],
   "source": [
    "# 14.1. Use best estimator from the recall grid search to make predictions on the test set\n",
    "# 14.2. The recall on the test set for the toxic comments is 0.62\n",
    "# 14.3. The f1_score is 0.57\n",
    "# Accuracy of model = \n",
    "SVC_4 = SVC(kernel='linear', class_weight='balanced', C= 0.35)\n",
    "test_accuracy(SVC_4)"
   ]
  },
  {
   "cell_type": "code",
   "execution_count": 53,
   "metadata": {},
   "outputs": [],
   "source": [
    "# using min df in TFIDF and checking accuracy\n",
    "TFIDF_min = TfidfVectorizer(max_features=4000, min_df=5)\n",
    "TFIDF_x_train_min = TFIDF_min.fit_transform(X_train)\n",
    "TFIDF_x_test_min = TFIDF_min.transform(X_test)"
   ]
  },
  {
   "cell_type": "code",
   "execution_count": 54,
   "metadata": {},
   "outputs": [
    {
     "name": "stdout",
     "output_type": "stream",
     "text": [
      "97.1 0.41\n",
      "93.09 0.35\n",
      "(array([0.96249062, 0.48502994]), array([0.93718042, 0.61832061]), array([0.94966691, 0.54362416]), array([1369,  131]))\n"
     ]
    }
   ],
   "source": [
    "# SVC using Min df - This model seems good as well but with no improvement in Recall score\n",
    "SVC_5 = SVC(kernel='linear', class_weight='balanced', C= 0.35)\n",
    "test_accuracy(SVC_5, TFIDF_x_train_min, TFIDF_x_test_min)"
   ]
  },
  {
   "cell_type": "markdown",
   "metadata": {},
   "source": [
    "# 15. What are the most prominent terms in the toxic comments?"
   ]
  },
  {
   "cell_type": "code",
   "execution_count": 55,
   "metadata": {},
   "outputs": [],
   "source": [
    "# Using the SVC model used for best recall score\n",
    "svc_test = SVC_4.predict(tfidf_x_test)"
   ]
  },
  {
   "cell_type": "code",
   "execution_count": 56,
   "metadata": {},
   "outputs": [
    {
     "data": {
      "text/plain": [
       "array([0, 0, 0, 1, 0, 0, 0, 0, 0, 0])"
      ]
     },
     "execution_count": 56,
     "metadata": {},
     "output_type": "execute_result"
    }
   ],
   "source": [
    "svc_test[:10]"
   ]
  },
  {
   "cell_type": "code",
   "execution_count": 57,
   "metadata": {},
   "outputs": [
    {
     "data": {
      "text/html": [
       "<div>\n",
       "<style scoped>\n",
       "    .dataframe tbody tr th:only-of-type {\n",
       "        vertical-align: middle;\n",
       "    }\n",
       "\n",
       "    .dataframe tbody tr th {\n",
       "        vertical-align: top;\n",
       "    }\n",
       "\n",
       "    .dataframe thead th {\n",
       "        text-align: right;\n",
       "    }\n",
       "</style>\n",
       "<table border=\"1\" class=\"dataframe\">\n",
       "  <thead>\n",
       "    <tr style=\"text-align: right;\">\n",
       "      <th></th>\n",
       "      <th>Toxicity</th>\n",
       "      <th>Comments</th>\n",
       "    </tr>\n",
       "  </thead>\n",
       "  <tbody>\n",
       "    <tr>\n",
       "      <th>3249</th>\n",
       "      <td>0</td>\n",
       "      <td>daimlerchrysler relationship closer gone point...</td>\n",
       "    </tr>\n",
       "    <tr>\n",
       "      <th>1133</th>\n",
       "      <td>0</td>\n",
       "      <td>linked dennis brown quite obviously meant humo...</td>\n",
       "    </tr>\n",
       "    <tr>\n",
       "      <th>1659</th>\n",
       "      <td>0</td>\n",
       "      <td>fair use rationale image pinhead profile jpg t...</td>\n",
       "    </tr>\n",
       "    <tr>\n",
       "      <th>1694</th>\n",
       "      <td>1</td>\n",
       "      <td>halo make halo like glitch high charity begin ...</td>\n",
       "    </tr>\n",
       "    <tr>\n",
       "      <th>4094</th>\n",
       "      <td>0</td>\n",
       "      <td>hipocrite doubt isolated incident evidence lon...</td>\n",
       "    </tr>\n",
       "  </tbody>\n",
       "</table>\n",
       "</div>"
      ],
      "text/plain": [
       "      Toxicity                                           Comments\n",
       "3249         0  daimlerchrysler relationship closer gone point...\n",
       "1133         0  linked dennis brown quite obviously meant humo...\n",
       "1659         0  fair use rationale image pinhead profile jpg t...\n",
       "1694         1  halo make halo like glitch high charity begin ...\n",
       "4094         0  hipocrite doubt isolated incident evidence lon..."
      ]
     },
     "execution_count": 57,
     "metadata": {},
     "output_type": "execute_result"
    }
   ],
   "source": [
    "d = {'Toxicity':svc_test, 'Comments':X_test}\n",
    "df = pd.DataFrame(data=d)\n",
    "df.head()"
   ]
  },
  {
   "cell_type": "code",
   "execution_count": 58,
   "metadata": {},
   "outputs": [],
   "source": [
    "#wiki_comments['comment_text'][1536]"
   ]
  },
  {
   "cell_type": "code",
   "execution_count": 59,
   "metadata": {},
   "outputs": [
    {
     "name": "stdout",
     "output_type": "stream",
     "text": [
      "(153, 2)\n"
     ]
    }
   ],
   "source": [
    "# 15.1. Separate the comments from the test set that the model identified as toxic\n",
    "# Label 1 identifies as 'Toxic'\n",
    "toxic = df.groupby('Toxicity').get_group(1)\n",
    "print(toxic.shape)"
   ]
  },
  {
   "cell_type": "code",
   "execution_count": 60,
   "metadata": {},
   "outputs": [
    {
     "data": {
      "image/png": "[encoded data removed]",
      "text/plain": [
       "<Figure size 864x360 with 1 Axes>"
      ]
     },
     "metadata": {
      "needs_background": "light"
     },
     "output_type": "display_data"
    }
   ],
   "source": [
    "# 15.2. Make one large list of all the terms\n",
    "all_words = []\n",
    "for t in toxic['Comments']:\n",
    "    all_words.extend(t.split())\n",
    "  \n",
    "# 15.3. Get the top 15 terms\n",
    "Plot_FreqDist(all_words, 15)"
   ]
  },
  {
   "cell_type": "code",
   "execution_count": null,
   "metadata": {},
   "outputs": [],
   "source": []
  }
 ],
 "metadata": {
  "kernelspec": {
   "display_name": "Python 3",
   "language": "python",
   "name": "python3"
  },
  "language_info": {
   "codemirror_mode": {
    "name": "ipython",
    "version": 3
   },
   "file_extension": ".py",
   "mimetype": "text/x-python",
   "name": "python",
   "nbconvert_exporter": "python",
   "pygments_lexer": "ipython3",
   "version": "3.7.6"
  }
 },
 "nbformat": 4,
 "nbformat_minor": 4
}
